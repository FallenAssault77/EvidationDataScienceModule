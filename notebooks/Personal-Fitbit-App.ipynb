{
 "cells": [
  {
   "cell_type": "markdown",
   "metadata": {},
   "source": [
    "# Build your own Fitbit App\n",
    "\n",
    "Data is cool, but what is cooler than looking at other people's data? Looking at your own Data! In this project we will construct our own miniature app that uses the Fitbit API to pull our own data. If you don't own a Fitbit, don't worry! You can download the free Fitbit app for iOS or Android and it will still log your steps using the accelorometer in your phone. Having a Fitbit device is slightly more exciting: it will log your sleep and heart rate as well (if you have a heart rate enabled device)."
   ]
  },
  {
   "cell_type": "markdown",
   "metadata": {},
   "source": [
    "# Step I: Register your own app\n",
    "\n",
    "There is a bit of setup that you will need to go through before you can actually pull your own data. Fitbit requires you to register an app in order to do this. In order to do this you will need to create a Fitbit account, and then follow the instructions found in [step 1 of this article](https://towardsdatascience.com/collect-your-own-fitbit-data-with-python-ff145fa10873)."
   ]
  },
  {
   "cell_type": "markdown",
   "metadata": {},
   "source": [
    "# Step 2: Authenticate using our OAuth token\n",
    "Now that we have a personal app that supplies us with a OAuth credentials we can authenticate and pull our data from Fitbit using our app. In order to do this we'll use some external libraries. Note that you will probably want to run this notebook locally (e.g. not on the jupyter hub instance) since an authentication tab will open up in your browser, and if you are working remotely it may not foward correctly."
   ]
  },
  {
   "cell_type": "code",
   "execution_count": 26,
   "metadata": {
    "collapsed": true
   },
   "outputs": [],
   "source": [
    "# Required packages\n",
    "import fitbit\n",
    "import utils.gather_keys_oauth2 as Oauth2\n",
    "import pandas as pd\n",
    "import datetime\n",
    "import os\n",
    "import matplotlib.pyplot as plt"
   ]
  },
  {
   "cell_type": "code",
   "execution_count": 27,
   "metadata": {
    "collapsed": true
   },
   "outputs": [],
   "source": [
    "%matplotlib inline"
   ]
  },
  {
   "cell_type": "code",
   "execution_count": 2,
   "metadata": {},
   "outputs": [],
   "source": [
    "########################################################################################################\n",
    "# YOU SHOULD SET YOUR FITBIT CLIENT ID AND SECRET AS ENVIRONMENT VARIABLES RATHER THAN PLACING THEM AS #\n",
    "# RAW TEXT IN YOUR SCRIPT. ANYONE WHO VIEWS YOUR CREDENTIALS CAN PULL YOUR DATA.                       #\n",
    "########################################################################################################\n",
    "CLIENT_ID = os.environ['FITBIT_CLIENT_ID']\n",
    "CLIENT_SECRET = os.environ['FITBIT_CLIENT_SECRET']"
   ]
  },
  {
   "cell_type": "code",
   "execution_count": 5,
   "metadata": {},
   "outputs": [
    {
     "name": "stderr",
     "output_type": "stream",
     "text": [
      "[10/Apr/2018:14:41:13] ENGINE Listening for SIGTERM.\n",
      "[10/Apr/2018:14:41:13] ENGINE Listening for SIGHUP.\n",
      "[10/Apr/2018:14:41:13] ENGINE Listening for SIGUSR1.\n",
      "[10/Apr/2018:14:41:13] ENGINE Bus STARTING\n",
      "CherryPy Checker:\n",
      "The Application mounted at '' has an empty config.\n",
      "\n",
      "[10/Apr/2018:14:41:13] ENGINE Started monitor thread 'Autoreloader'.\n",
      "[10/Apr/2018:14:41:14] ENGINE Serving on http://127.0.0.1:8080\n",
      "[10/Apr/2018:14:41:14] ENGINE Bus STARTED\n"
     ]
    },
    {
     "name": "stdout",
     "output_type": "stream",
     "text": [
      "127.0.0.1 - - [10/Apr/2018:14:41:15] \"GET /?code=33fbd7538a4f31770b76ca17c6992aee97d2e00a&state=GSiG176J03IkNquMXxDktwYpdsVWhG HTTP/1.1\" 200 122 \"\" \"Mozilla/5.0 (Macintosh; Intel Mac OS X 10_13_3) AppleWebKit/537.36 (KHTML, like Gecko) Chrome/65.0.3325.181 Safari/537.36\"\n"
     ]
    },
    {
     "name": "stderr",
     "output_type": "stream",
     "text": [
      "[10/Apr/2018:14:41:16] ENGINE Bus STOPPING\n",
      "[10/Apr/2018:14:41:21] ENGINE HTTP Server cherrypy._cpwsgi_server.CPWSGIServer(('127.0.0.1', 8080)) shut down\n",
      "[10/Apr/2018:14:41:21] ENGINE Stopped thread 'Autoreloader'.\n",
      "[10/Apr/2018:14:41:21] ENGINE Bus STOPPED\n",
      "[10/Apr/2018:14:41:21] ENGINE Bus EXITING\n",
      "[10/Apr/2018:14:41:21] ENGINE Bus EXITED\n",
      "[10/Apr/2018:14:41:21] ENGINE Waiting for child threads to terminate...\n"
     ]
    }
   ],
   "source": [
    "server = Oauth2.OAuth2Server(CLIENT_ID, CLIENT_SECRET) # Instantiate OAuth server\n",
    "server.browser_authorize() # Request to be authorized via OAuth\n",
    "ACCESS_TOKEN = str(server.fitbit.client.session.token['access_token']) # Save access token\n",
    "REFRESH_TOKEN = str(server.fitbit.client.session.token['refresh_token']) # Save refresh token\n",
    "\n",
    "# Instantiate connection\n",
    "auth2_client = fitbit.Fitbit(\n",
    "    CLIENT_ID,\n",
    "    CLIENT_SECRET,\n",
    "    oauth2=True,\n",
    "    access_token=ACCESS_TOKEN,\n",
    "    refresh_token=REFRESH_TOKEN\n",
    ")"
   ]
  },
  {
   "cell_type": "markdown",
   "metadata": {},
   "source": [
    "# Pull our Data\n",
    "\n",
    "Voile! We have a working connection to our app that allows us to pull our Fitbit data! Our next step is to take the raw response and parse it into the our standard data analysis object- a pandas dataframe. In this section we will pull the steps data. If you have a Fitbit device you can also pull sleep and heart rate data from the api."
   ]
  },
  {
   "cell_type": "code",
   "execution_count": 21,
   "metadata": {},
   "outputs": [],
   "source": [
    "def pull_date_activity(connection, date_string, endpoint='activities/steps'):\n",
    "    \"\"\"\n",
    "    Pull activity from an endpoint for a given day\n",
    "    \n",
    "    Inputs:\n",
    "        connection: Connection to your Fitbit app\n",
    "        endpoint: API endpoint you want to pull data from\n",
    "        date_string: Date string of the form \"yyyy-mm-dd\"\n",
    "    Returns:\n",
    "        Pandas DataFrame of values for requested activity for the requested date\n",
    "    \"\"\"\n",
    "    result_set = connection.intraday_time_series(\n",
    "        endpoint,\n",
    "        base_date=date_string\n",
    "    )\n",
    "    \n",
    "    act_type = endpoint.split('/')[1]\n",
    "    get_key = f'activities-{act_type}-intraday'\n",
    "    df = pd.DataFrame.from_dict(result_set[get_key]['dataset'])\n",
    "    df['timestamp'] = date_string + ' ' + df['time']\n",
    "    df['timestamp'] = pd.to_datetime(df.timestamp)\n",
    "    df.drop(columns='time', inplace=True)\n",
    "    df.set_index('timestamp', inplace=True)\n",
    "    return df\n",
    "    "
   ]
  },
  {
   "cell_type": "code",
   "execution_count": 30,
   "metadata": {},
   "outputs": [
    {
     "data": {
      "text/plain": [
       "<matplotlib.axes._subplots.AxesSubplot at 0x1124a1da0>"
      ]
     },
     "execution_count": 30,
     "metadata": {},
     "output_type": "execute_result"
    },
    {
     "data": {
      "image/png": "[encoded data removed]",
      "text/plain": [
       "<matplotlib.figure.Figure at 0x112557550>"
      ]
     },
     "metadata": {},
     "output_type": "display_data"
    }
   ],
   "source": [
    "pull_date_activity(auth2_client, '2018-04-09').plot(figsize=(20, 6))"
   ]
  },
  {
   "cell_type": "markdown",
   "metadata": {},
   "source": [
    "Nice! Now I have my fitbit data for a specific day, and can start tracking my own behavior patterns. One thing that immediately stands out is how little I walk throughout the day, that's something I'll need to improve!"
   ]
  },
  {
   "cell_type": "code",
   "execution_count": null,
   "metadata": {
    "collapsed": true
   },
   "outputs": [],
   "source": []
  },
  {
   "cell_type": "markdown",
   "metadata": {},
   "source": [
    "# Exercises\n",
    "\n",
    "The following exercises are designed to help get your creative juices flowing and expose you to some of the kinds of questions you can answer using this tpe of data."
   ]
  },
  {
   "cell_type": "code",
   "execution_count": null,
   "metadata": {
    "collapsed": true
   },
   "outputs": [],
   "source": []
  },
  {
   "cell_type": "code",
   "execution_count": null,
   "metadata": {
    "collapsed": true
   },
   "outputs": [],
   "source": []
  },
  {
   "cell_type": "code",
   "execution_count": null,
   "metadata": {
    "collapsed": true
   },
   "outputs": [],
   "source": []
  }
 ],
 "metadata": {
  "kernelspec": {
   "display_name": "venv3",
   "language": "python",
   "name": "venv3"
  },
  "language_info": {
   "codemirror_mode": {
    "name": "ipython",
    "version": 3
   },
   "file_extension": ".py",
   "mimetype": "text/x-python",
   "name": "python",
   "nbconvert_exporter": "python",
   "pygments_lexer": "ipython3",
   "version": "3.6.2"
  },
  "toc": {
   "nav_menu": {},
   "number_sections": true,
   "sideBar": true,
   "skip_h1_title": false,
   "toc_cell": false,
   "toc_position": {},
   "toc_section_display": "block",
   "toc_window_display": false
  }
 },
 "nbformat": 4,
 "nbformat_minor": 2
}

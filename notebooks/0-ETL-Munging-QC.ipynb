{
 "cells": [
  {
   "cell_type": "markdown",
   "metadata": {},
   "source": [
    "# Summary\n",
    "\n",
    "*Author: Benjamin Bradshaw*\n",
    "\n",
    "Welcome to the Evidation Data Science Module! This module is designed to give you an introduction to the world of health data science. This is a fascinating field that combines traditional forms of data with data derived from internet-of-things devices (IoT) such as Fitbits, wireless scales, continuous glucose monitors and many, many more devices.\n",
    "\n",
    "Data Science is part science, part engineering. A theme we will continually stress in this module is how to use software engineering principals to create *scalable science*. Cheap computing power, in combination with open software libraries such as pandas, sklearn, and tensorflow have made it possible to conduct analysis that were not possible just a few years ago, and we will show you how to use some of these tools to build your own solutions to novel problems.\n",
    "\n",
    "This notebook will focus on the twofold process of *ETL* and *sample selection*. *ETL* is short for *Extract-Transform-Load* and is traditionally a software engineering process to parse data into an appropriate format for storage or analysis. *Sample selection* is a well known practice in statistics and refers to choosing an appropriate subset of a collected dataset in order to minimize bias or maximize out of sample prediction accuracy. Data science uses both of these tools and in this notebook we will give you an example of how to do just that.\n",
    "\n",
    "Throughout this module we will use two sources of data. The in class notebooks will use the NHANES data set: a large dataset collected by the CDC that records a huge breadth of data about a large set of individuals, including raw accelerometer data for a subset of these study participants. The exercises will use Fitbit data: you will learn how to create your own Fitbit application to pull intraday steps data, and you will then use that data to conduct further analysis.\n",
    "\n",
    "In this notebook we will cover the following topics:\n",
    "- Pull down several raw datasets contained on the 2005-2006 [NHANES website](https://wwwn.cdc.gov/nchs/nhanes/ContinuousNhanes/Default.aspx?BeginYear=2005). We'll do this using a combination of bash and pandas: bash for the datasets that need to be unzipped, pandas for those we can read directly from source.\n",
    "- Store the raw SAS format data as something more reasonable and modern (I'm going to use [HDF format](https://en.wikipedia.org/wiki/Hierarchical_Data_Format) which is a super fast binary data representation, but feel free to play around with .h5 or another format as you see fit)\n",
    "- Correct outlier detection and correctin on the raw NHANES accelerometer data\n",
    "- Conduct sample selection using the raw data in order to do further analysis later"
   ]
  },
  {
   "cell_type": "markdown",
   "metadata": {},
   "source": [
    "# Learning Objectives\n",
    "\n",
    "After completing this module you should be able to do the following:\n",
    "\n",
    "1. Use pandas to pull raw data from source\n",
    "2. Use ```wget``` and ```unzip``` to pull in data that can't be read directly from source via pandas\n",
    "3. Understand why data compression is important, and how to downcast datatypes for efficient memory allocation\n",
    "4. Construct basic visualization tools for checking data quality\n",
    "5. Understand the basics of outlier detection for IoT signal data, and implement basic outlier correction\n",
    "6. Conduct sample selection using various inclusion criteria in order to create a dataset useful for further analysis"
   ]
  },
  {
   "cell_type": "markdown",
   "metadata": {},
   "source": [
    "# Initialize\n",
    "\n",
    "Below are the external dependencies this notebook depends on to function. If you don't have these installed you can install them using pip or conda- whichever you typically use as your package manager."
   ]
  },
  {
   "cell_type": "code",
   "execution_count": 1,
   "metadata": {
    "ExecuteTime": {
     "end_time": "2018-03-28T17:17:50.895466Z",
     "start_time": "2018-03-28T17:17:50.327235Z"
    },
    "collapsed": true
   },
   "outputs": [],
   "source": [
    "import pandas as pd\n",
    "import numpy as np\n",
    "import os\n",
    "import matplotlib.pyplot as plt\n",
    "import utils # Utility functions containained in ./utils/\n",
    "import scipy\n",
    "\n",
    "%matplotlib inline\n",
    "%load_ext autoreload\n",
    "%autoreload 2\n",
    "\n",
    "pd.set_option('max.rows', 100)\n",
    "pd.set_option('max.columns', 100)\n",
    "\n",
    "# Change this location to the path where you would like your data saved to\n",
    "data_dir = '/Users/bbradshaw/nhanes/'\n",
    "\n",
    "# Path to hdf store we will create later\n",
    "hdf_path = 'nhanes.h5'"
   ]
  },
  {
   "cell_type": "markdown",
   "metadata": {},
   "source": [
    "# Download, unzip, and save raw physical activity monitor data.\n",
    "\n",
    "The raw PAX data is zipped due to its size and can't be read directly into pandas. We use the following steps to get it into a more manageable format:\n",
    "1. Download the data using the bash command ```wget```\n",
    "2. Unzip the downlaoded data using the bash command ```unzip```\n",
    "3. Read the data into pandas, and downcast data types to save on memory. The machine we are using has 32G of RAM, if your machine has less you may have issues with this step. If that's the case we suggest you don't actually run this portion of the ETL pipeline but rather use the ```nhanes.h5``` store we have written out and supplied to you."
   ]
  },
  {
   "cell_type": "code",
   "execution_count": 3,
   "metadata": {
    "ExecuteTime": {
     "start_time": "2018-03-27T22:11:52.374Z"
    }
   },
   "outputs": [
    {
     "name": "stdout",
     "output_type": "stream",
     "text": [
      "--2018-04-16 14:56:25--  https://wwwn.cdc.gov/Nchs/Nhanes/2005-2006/PAXRAW_D.ZIP\n",
      "Resolving wwwn.cdc.gov... 198.246.102.39\n",
      "Connecting to wwwn.cdc.gov|198.246.102.39|:443... connected.\n",
      "HTTP request sent, awaiting response... 200 OK\n",
      "Length: 470990068 (449M) [application/x-zip-compressed]\n",
      "Saving to: ‘PAXRAW_D.ZIP’\n",
      "\n",
      "PAXRAW_D.ZIP        100%[===================>] 449.17M   925KB/s    in 9m 58s  \n",
      "\n",
      "2018-04-16 15:06:24 (769 KB/s) - ‘PAXRAW_D.ZIP’ saved [470990068/470990068]\n",
      "\n",
      "Archive:  /Users/bbradshaw/nhanes/PAXRAW_D.ZIP\n",
      "  inflating: /Users/bbradshaw/nhanes/paxraw_d.xpt  \n"
     ]
    }
   ],
   "source": [
    "###############################################################\n",
    "# RUN THIS BLOCK ONLY IF YOU WANT TO RECREATE THE ETL PROCESS # \n",
    "# OTHERWISE READ THE PREPROCESSED FILE - IT TAKES FOREVER     #\n",
    "# AND ISN'T THAT INTERESTING                                  #\n",
    "###############################################################\n",
    "\n",
    "! wget https://wwwn.cdc.gov/Nchs/Nhanes/2005-2006/PAXRAW_D.ZIP\n",
    "! mv PAXRAW_D.ZIP {data_dir}\n",
    "! unzip {data_dir}PAXRAW_D.ZIP -d {data_dir}"
   ]
  },
  {
   "cell_type": "code",
   "execution_count": 4,
   "metadata": {
    "collapsed": true
   },
   "outputs": [],
   "source": [
    "#############################################################\n",
    "# AGAIN - ONLY RUN THIS BLOCK IF YOU ARE CURIOUS, IT TAKES  # \n",
    "# A LONG TIME, AND IT'S EASIER/FASTER TO USE THE HDF STORE  #\n",
    "# WE PROVIDE THAT HAS ALREADY PROCESSED THE DATA            #\n",
    "#############################################################\n",
    "! python -m xport {data_dir}paxraw_d.xpt > {data_dir}paxraw_d.csv"
   ]
  },
  {
   "cell_type": "code",
   "execution_count": 14,
   "metadata": {
    "ExecuteTime": {
     "end_time": "2018-03-28T16:54:42.453813Z",
     "start_time": "2018-03-28T16:54:42.421436Z"
    },
    "collapsed": true
   },
   "outputs": [],
   "source": [
    "# Using the default float types is extremely memory intensive \n",
    "# given the number of rows we are dealing with. \n",
    "\n",
    "# Let's define a map that casts columns to less memory\n",
    "# intensive types\n",
    "type_map = {\n",
    "    'SEQN': 'object',\n",
    "    'PAXSTAT': np.int8,\n",
    "    'PAXCAL': np.int8,\n",
    "    'PAXDAY': np.int8,\n",
    "    'PAXHOUR': np.int16,\n",
    "    'PAXMINUT': np.int16,\n",
    "    'PAXINTEN': np.int16,\n",
    "    'PAXSTEP': np.float32,\n",
    "    'PAXN': np.int16\n",
    "}"
   ]
  },
  {
   "cell_type": "code",
   "execution_count": 15,
   "metadata": {},
   "outputs": [
    {
     "name": "stdout",
     "output_type": "stream",
     "text": [
      "CPU times: user 1min 37s, sys: 8.36 s, total: 1min 45s\n",
      "Wall time: 1min 51s\n"
     ]
    }
   ],
   "source": [
    "# Read the csv file we just created into memory in order to downcast\n",
    "# We can pass type_map to pd.read_csv to specify the types we want\n",
    "pax_path = 'paxraw_d.csv'\n",
    "%time pax_raw = pd.read_csv(os.path.join(data_dir, pax_path), dtype=type_map)"
   ]
  },
  {
   "cell_type": "markdown",
   "metadata": {},
   "source": [
    "**Side Note:** The ```%time``` magic command. Jupyter notebooks has several useful \"magics\" commands. The ```%time``` command allows us to time how long a command takes to run. The command will return both CPU times as well as wall times. If you aren't sure what that means, we encourage you to google it to learn more!"
   ]
  },
  {
   "cell_type": "code",
   "execution_count": 10,
   "metadata": {
    "ExecuteTime": {
     "end_time": "2018-03-28T16:56:28.086243Z",
     "start_time": "2018-03-28T16:56:28.014575Z"
    },
    "collapsed": true
   },
   "outputs": [],
   "source": [
    "# pythonize column names\n",
    "pax_raw.columns = [x.lower() for x in pax_raw.columns]"
   ]
  },
  {
   "cell_type": "code",
   "execution_count": 11,
   "metadata": {
    "ExecuteTime": {
     "end_time": "2018-03-28T16:56:29.940998Z",
     "start_time": "2018-03-28T16:56:29.897289Z"
    }
   },
   "outputs": [
    {
     "name": "stdout",
     "output_type": "stream",
     "text": [
      "<class 'pandas.core.frame.DataFrame'>\n",
      "RangeIndex: 74874095 entries, 0 to 74874094\n",
      "Data columns (total 9 columns):\n",
      "seqn        object\n",
      "paxstat     int8\n",
      "paxcal      int8\n",
      "paxday      int8\n",
      "paxn        int16\n",
      "paxhour     int16\n",
      "paxminut    int16\n",
      "paxinten    int16\n",
      "paxstep     float32\n",
      "dtypes: float32(1), int16(4), int8(3), object(1)\n",
      "memory usage: 1.6+ GB\n"
     ]
    }
   ],
   "source": [
    "# Display dataframe types and usage statistics\n",
    "pax_raw.info()"
   ]
  },
  {
   "cell_type": "markdown",
   "metadata": {},
   "source": [
    "You can see that downcasting our types saved us a *significant* amount of memory (prior to specifying the datatypes the datframe was consuming 8+ GB of memory). We manually inferred the best datatypes, but for datasets with larger numbers of columns it would be more efficient to automatically infer the datatypes."
   ]
  },
  {
   "cell_type": "markdown",
   "metadata": {},
   "source": [
    "We will store our data in an HDF store. An HDF store is very similar to a database like SQLite or PostgreSQL in that you can store several tables under one store. Additionally, HDF preserves python data types between write and read- which is a very nice property for dates or in our case memory savings. You can see in the code block below that we can list the table keys stored in our HDF store. Finally, I/O operations are *much* faster than file formats such as csv, sometimes by as much as 100x."
   ]
  },
  {
   "cell_type": "code",
   "execution_count": 13,
   "metadata": {
    "ExecuteTime": {
     "end_time": "2018-03-28T16:57:09.560643Z",
     "start_time": "2018-03-28T16:57:00.408018Z"
    },
    "collapsed": true
   },
   "outputs": [],
   "source": [
    "pax_raw.to_hdf(os.path.join(data_dir, hdf_path), 'pax_raw')"
   ]
  },
  {
   "cell_type": "markdown",
   "metadata": {},
   "source": [
    "# Read other NHANES tables directly from source\n",
    "\n",
    "The other tables aren't compressed- they are simply raw .XPT files written out via SAS. We can read directly from source. There are a TON of interesting files on the NHANES website- from disease state questionnaires to physical activity questionnaires. We have linked a few interesting tables below, we will leave it to you to add the rest."
   ]
  },
  {
   "cell_type": "code",
   "execution_count": 14,
   "metadata": {
    "ExecuteTime": {
     "end_time": "2018-03-28T16:57:16.572558Z",
     "start_time": "2018-03-28T16:57:16.543007Z"
    },
    "collapsed": true
   },
   "outputs": [],
   "source": [
    "# In order to grab tables from the CDC NHANES website, simply add a table alias to the dictionary below,\n",
    "# and then reference the table link address as the corresponding key value. The read_sas_write_feather\n",
    "# function in utils will then read each sas file and write it to write_dir in feather format using \n",
    "# the alias as the file name\n",
    "\n",
    "source_paths = {\n",
    "    'medical_conditions_questionnaire': 'https://wwwn.cdc.gov/Nchs/Nhanes/2005-2006/MCQ_D.XPT',\n",
    "    'weight_history_questionnaire': 'https://wwwn.cdc.gov/Nchs/Nhanes/2005-2006/WHQ_D.XPT',\n",
    "    'demographics_with_sample_weights': 'https://wwwn.cdc.gov/Nchs/Nhanes/2005-2006/DEMO_D.XPT'\n",
    "}"
   ]
  },
  {
   "cell_type": "markdown",
   "metadata": {},
   "source": [
    "In order to optimize I/O, and keep all of our data in one place, we'll download each of the raw datasets we are interested in into memory, then save it to our already created HDF store."
   ]
  },
  {
   "cell_type": "code",
   "execution_count": 29,
   "metadata": {
    "ExecuteTime": {
     "end_time": "2018-03-28T16:57:35.932194Z",
     "start_time": "2018-03-28T16:57:18.309613Z"
    }
   },
   "outputs": [
    {
     "name": "stderr",
     "output_type": "stream",
     "text": [
      "/Users/bbradshaw/venv3/lib/python3.6/site-packages/pandas/core/generic.py:1471: PerformanceWarning: \n",
      "your performance may suffer as PyTables will pickle object types that it cannot\n",
      "map directly to c-types [inferred_type->floating,key->block1_values] [items->['seqn']]\n",
      "\n",
      "  return pytables.to_hdf(path_or_buf, key, self, **kwargs)\n"
     ]
    }
   ],
   "source": [
    "utils.read_sas_write_hdf(source_paths, data_dir, 'nhanes.h5')"
   ]
  },
  {
   "cell_type": "code",
   "execution_count": 2,
   "metadata": {
    "ExecuteTime": {
     "end_time": "2018-03-28T16:57:36.001442Z",
     "start_time": "2018-03-28T16:57:35.933937Z"
    }
   },
   "outputs": [
    {
     "name": "stdout",
     "output_type": "stream",
     "text": [
      "['/demographics_with_sample_weights', '/medical_conditions_questionnaire', '/pax_clean', '/pax_raw', '/weight_history_questionnaire']\n"
     ]
    }
   ],
   "source": [
    "with pd.HDFStore(os.path.join(data_dir, 'nhanes.h5')) as hdf:\n",
    "    print(hdf.keys())"
   ]
  },
  {
   "cell_type": "markdown",
   "metadata": {},
   "source": [
    "Looks like all requested tables made it safely into our data store!"
   ]
  },
  {
   "cell_type": "markdown",
   "metadata": {},
   "source": [
    "## Exercise: Find and read the physical activity questionnaire\n",
    "\n",
    "Find the raw SAS file on the 2005-2006 NHANES website that corresponds to the physical activity questionnaire. Use the function ```utils.read_sas_write_hdf()``` to download this file and write it into the HDF store that contains the other tables we already downloaded above."
   ]
  },
  {
   "cell_type": "code",
   "execution_count": 27,
   "metadata": {
    "collapsed": true
   },
   "outputs": [],
   "source": [
    "######################\n",
    "# YOUR SOLUTION HERE #\n",
    "######################"
   ]
  },
  {
   "cell_type": "markdown",
   "metadata": {},
   "source": [
    "## Solution: Find and read the physical activity questionnaire"
   ]
  },
  {
   "cell_type": "code",
   "execution_count": null,
   "metadata": {
    "ExecuteTime": {
     "end_time": "2018-03-28T16:58:02.126069Z",
     "start_time": "2018-03-28T16:58:02.099671Z"
    },
    "collapsed": true
   },
   "outputs": [],
   "source": [
    "append_paths = {\n",
    "    'physical_activity_questionnaire': 'https://wwwn.cdc.gov/Nchs/Nhanes/2005-2006/PAQ_D.XPT'\n",
    "}"
   ]
  },
  {
   "cell_type": "code",
   "execution_count": null,
   "metadata": {
    "ExecuteTime": {
     "end_time": "2018-03-28T16:58:25.298224Z",
     "start_time": "2018-03-28T16:58:03.948146Z"
    },
    "collapsed": true
   },
   "outputs": [],
   "source": [
    "utils.read_sas_write_hdf(source_paths, data_dir, 'nhanes.h5', downcast=False, verbose=False)"
   ]
  },
  {
   "cell_type": "markdown",
   "metadata": {},
   "source": [
    "# Initial QC of physical activity data\n",
    "\n",
    "In order to verify that the raw physical activity data looks reasonable, we will create a some tools that will allow us to quickly visualize the time series that correspond to each user-day's walking patterns. There are a few good reasons for doing this:\n",
    "1. This will allow us to infer if our preprocessing worked correctly\n",
    "2. It will allow us to identify idiosyncracies in the raw data itself\n",
    "3. It will help us better understand what sorts of features could be useful for various prediction or inference problems"
   ]
  },
  {
   "cell_type": "code",
   "execution_count": 51,
   "metadata": {
    "ExecuteTime": {
     "end_time": "2018-03-28T17:18:16.971800Z",
     "start_time": "2018-03-28T17:18:12.276047Z"
    }
   },
   "outputs": [
    {
     "name": "stdout",
     "output_type": "stream",
     "text": [
      "CPU times: user 3.63 s, sys: 5.41 s, total: 9.05 s\n",
      "Wall time: 10.4 s\n"
     ]
    }
   ],
   "source": [
    "######################################################\n",
    "# Running this block on the UCSB machines causes the #\n",
    "# kernel to fail due to lack of available memory,    #\n",
    "# if you are interested in using the whole dataset   #\n",
    "# you will need to use a more powerful machine.      #\n",
    "######################################################\n",
    "\n",
    "# If running the ETL pipeline on the full dataset, set True\n",
    "# using_sample = False\n",
    "\n",
    "# %time pax_raw = pd.read_hdf(os.path.join(data_dir, hdf_path), 'pax_raw')"
   ]
  },
  {
   "cell_type": "code",
   "execution_count": 82,
   "metadata": {},
   "outputs": [],
   "source": [
    "######################################################\n",
    "# This block grabs 10% of participants and generates #\n",
    "# an activity sample from that. For the UCSB         #\n",
    "# machines I recommend you use this for working      #\n",
    "# through the notebooks since they don't have enough #\n",
    "# memory for the full pre-processed dataset. You     #\n",
    "# don't need to run this block, unless you want to   #\n",
    "# recreate the sample from scratch.                  #\n",
    "######################################################\n",
    "\n",
    "# If we are running the ETL pipeline on a sample, set True\n",
    "using_sample = True\n",
    "\n",
    "# pax_raw = utils.construct_person_sample(pax_raw)\n",
    "# pax_raw.to_hdf(os.path.join(data_dir, hdf_path), 'pax_raw_sample')"
   ]
  },
  {
   "cell_type": "code",
   "execution_count": 54,
   "metadata": {},
   "outputs": [
    {
     "name": "stdout",
     "output_type": "stream",
     "text": [
      "CPU times: user 293 ms, sys: 207 ms, total: 499 ms\n",
      "Wall time: 501 ms\n"
     ]
    }
   ],
   "source": [
    "%time pax_raw = pd.read_hdf(os.path.join(data_dir, hdf_path), 'pax_raw_sample')"
   ]
  },
  {
   "cell_type": "markdown",
   "metadata": {},
   "source": [
    "Note the incredible increase in speed when we read the accelerometer data from the hdf store rather than from the csv file: from a wall time of 117 seconds to a wall time of < 15 seconds! (on my Macbook Air)"
   ]
  },
  {
   "cell_type": "code",
   "execution_count": 55,
   "metadata": {
    "ExecuteTime": {
     "end_time": "2018-03-28T17:18:17.397769Z",
     "start_time": "2018-03-28T17:18:16.973724Z"
    }
   },
   "outputs": [
    {
     "data": {
      "text/html": [
       "<div>\n",
       "<style scoped>\n",
       "    .dataframe tbody tr th:only-of-type {\n",
       "        vertical-align: middle;\n",
       "    }\n",
       "\n",
       "    .dataframe tbody tr th {\n",
       "        vertical-align: top;\n",
       "    }\n",
       "\n",
       "    .dataframe thead th {\n",
       "        text-align: right;\n",
       "    }\n",
       "</style>\n",
       "<table border=\"1\" class=\"dataframe\">\n",
       "  <thead>\n",
       "    <tr style=\"text-align: right;\">\n",
       "      <th></th>\n",
       "      <th>seqn</th>\n",
       "      <th>paxstat</th>\n",
       "      <th>paxcal</th>\n",
       "      <th>paxday</th>\n",
       "      <th>paxn</th>\n",
       "      <th>paxhour</th>\n",
       "      <th>paxminut</th>\n",
       "      <th>paxinten</th>\n",
       "      <th>paxstep</th>\n",
       "      <th>minute_of_day</th>\n",
       "    </tr>\n",
       "  </thead>\n",
       "  <tbody>\n",
       "    <tr>\n",
       "      <th>0</th>\n",
       "      <td>31151.0</td>\n",
       "      <td>1</td>\n",
       "      <td>1</td>\n",
       "      <td>1</td>\n",
       "      <td>1</td>\n",
       "      <td>0</td>\n",
       "      <td>0</td>\n",
       "      <td>0</td>\n",
       "      <td>0.0</td>\n",
       "      <td>0</td>\n",
       "    </tr>\n",
       "    <tr>\n",
       "      <th>1</th>\n",
       "      <td>31151.0</td>\n",
       "      <td>1</td>\n",
       "      <td>1</td>\n",
       "      <td>1</td>\n",
       "      <td>2</td>\n",
       "      <td>0</td>\n",
       "      <td>1</td>\n",
       "      <td>0</td>\n",
       "      <td>0.0</td>\n",
       "      <td>1</td>\n",
       "    </tr>\n",
       "    <tr>\n",
       "      <th>2</th>\n",
       "      <td>31151.0</td>\n",
       "      <td>1</td>\n",
       "      <td>1</td>\n",
       "      <td>1</td>\n",
       "      <td>3</td>\n",
       "      <td>0</td>\n",
       "      <td>2</td>\n",
       "      <td>0</td>\n",
       "      <td>0.0</td>\n",
       "      <td>2</td>\n",
       "    </tr>\n",
       "    <tr>\n",
       "      <th>3</th>\n",
       "      <td>31151.0</td>\n",
       "      <td>1</td>\n",
       "      <td>1</td>\n",
       "      <td>1</td>\n",
       "      <td>4</td>\n",
       "      <td>0</td>\n",
       "      <td>3</td>\n",
       "      <td>0</td>\n",
       "      <td>0.0</td>\n",
       "      <td>3</td>\n",
       "    </tr>\n",
       "    <tr>\n",
       "      <th>4</th>\n",
       "      <td>31151.0</td>\n",
       "      <td>1</td>\n",
       "      <td>1</td>\n",
       "      <td>1</td>\n",
       "      <td>5</td>\n",
       "      <td>0</td>\n",
       "      <td>4</td>\n",
       "      <td>0</td>\n",
       "      <td>0.0</td>\n",
       "      <td>4</td>\n",
       "    </tr>\n",
       "  </tbody>\n",
       "</table>\n",
       "</div>"
      ],
      "text/plain": [
       "      seqn  paxstat  paxcal  paxday  paxn  paxhour  paxminut  paxinten  \\\n",
       "0  31151.0        1       1       1     1        0         0         0   \n",
       "1  31151.0        1       1       1     2        0         1         0   \n",
       "2  31151.0        1       1       1     3        0         2         0   \n",
       "3  31151.0        1       1       1     4        0         3         0   \n",
       "4  31151.0        1       1       1     5        0         4         0   \n",
       "\n",
       "   paxstep  minute_of_day  \n",
       "0      0.0              0  \n",
       "1      0.0              1  \n",
       "2      0.0              2  \n",
       "3      0.0              3  \n",
       "4      0.0              4  "
      ]
     },
     "execution_count": 55,
     "metadata": {},
     "output_type": "execute_result"
    }
   ],
   "source": [
    "# Add a \"minute of day\" column as a plotting index\n",
    "pax_raw['minute_of_day'] = pax_raw.paxhour*60 + pax_raw.paxminut\n",
    "pax_raw.head()"
   ]
  },
  {
   "cell_type": "code",
   "execution_count": 56,
   "metadata": {
    "ExecuteTime": {
     "end_time": "2018-03-27T23:59:44.341280Z",
     "start_time": "2018-03-27T23:59:42.301047Z"
    }
   },
   "outputs": [],
   "source": [
    "# Take the raw data and filter out a single person just to check if the data looks reasonable.\n",
    "test_id = pax_raw.seqn.values[1]\n",
    "pax_sample = pax_raw[pax_raw.seqn==test_id].copy()"
   ]
  },
  {
   "cell_type": "code",
   "execution_count": 57,
   "metadata": {
    "ExecuteTime": {
     "end_time": "2018-03-28T00:00:03.960961Z",
     "start_time": "2018-03-28T00:00:03.252117Z"
    }
   },
   "outputs": [
    {
     "data": {
      "text/plain": [
       "<matplotlib.axes._subplots.AxesSubplot at 0x184338668>"
      ]
     },
     "execution_count": 57,
     "metadata": {},
     "output_type": "execute_result"
    },
    {
     "data": {
      "image/png": "[encoded data removed]",
      "text/plain": [
       "<matplotlib.figure.Figure at 0x184338a20>"
      ]
     },
     "metadata": {},
     "output_type": "display_data"
    }
   ],
   "source": [
    "# Plot the 30-minute rolling walk step series for our sampled user over day 1\n",
    "pax_sample[pax_sample.paxday==1]\\\n",
    "    .set_index('minute_of_day')\\\n",
    "    .paxstep.rolling(window=50, win_type='triang')\\\n",
    "    .mean()\\\n",
    "    .plot(figsize=(25,8))\n",
    "    \n",
    "# Note: I'm using the line continuation character \\ in conjunction with\n",
    "# method chaining here."
   ]
  },
  {
   "cell_type": "markdown",
   "metadata": {},
   "source": [
    "We just did some hand coding to plot a single user-day, but what if we wanted to explore *many* user days? It would be helpful to build a tool that would allow us to quickly look at different days and different users in our data."
   ]
  },
  {
   "cell_type": "markdown",
   "metadata": {},
   "source": [
    "## Exercise: Plotting user day series\n",
    "\n",
    "Using the example code above, define a function ```plot_user_steps()``` that takes 4 arguments as input and plots a specific user's rolling walk step plot simialr to the plot shown above. The function's arguments should be:\n",
    "1. ```pax_df``` (pandas dataframe) The physical activity dataframe\n",
    "2. ```seqn_id``` (str) The unique study participant id\n",
    "3. ```day_of_study``` (int) The day of the study to plot\n",
    "4. ```window_len``` (int) The window length to use for the moving average.\n",
    "\n",
    "The function should then plot the rolling walk series for a specific user, for a specific day. As a bonus, build in functionality so that passing ```None``` to the parameter ```seqn_id``` will default to choosing a random id from the set of seqn ids and using that to create the plot.\n",
    "\n",
    "**Side Note: Building Data Science Tools**\n",
    "A lot of what practicing data scientists do on a daily basis revolves around building tools that solve specific problems pertaining to an analysis. In fact, some may argue that's what seperates a data scientist from your everyday analyst. During this module we really want to encourage you to build tools that make analysis scale. In the process you may even find that it can be very fun and rewarding to create a useful suite of analysis tools to speed up your workflow!"
   ]
  },
  {
   "cell_type": "code",
   "execution_count": 10,
   "metadata": {
    "collapsed": true
   },
   "outputs": [],
   "source": [
    "######################\n",
    "# YOUR SOLUTION HERE #\n",
    "######################"
   ]
  },
  {
   "cell_type": "markdown",
   "metadata": {},
   "source": [
    "## Solution: Plotting user day series"
   ]
  },
  {
   "cell_type": "markdown",
   "metadata": {},
   "source": [
    "We wrote a little snippet of code that implements the solution above. If you are curious how we did it, take a look in the ```utils``` folder that was imported at the top of the notebook."
   ]
  },
  {
   "cell_type": "code",
   "execution_count": 58,
   "metadata": {
    "ExecuteTime": {
     "end_time": "2018-03-28T17:05:15.410168Z",
     "start_time": "2018-03-28T17:05:08.141133Z"
    }
   },
   "outputs": [
    {
     "data": {
      "image/png": "[encoded data removed]",
      "text/plain": [
       "<matplotlib.figure.Figure at 0x10fe3dd30>"
      ]
     },
     "metadata": {},
     "output_type": "display_data"
    }
   ],
   "source": [
    "# Look in the utils library to see how we implemented the solution.\n",
    "utils.plot_user_steps(pax_raw, None, 2, 15)"
   ]
  },
  {
   "cell_type": "markdown",
   "metadata": {},
   "source": [
    "# Cleaning the raw PAQ data\n",
    "\n",
    "IoT data can be pretty messy: often times we have long sequences of missing values or we find that sensor malfunctions lead to large outliers in a signal. In order to make our lives a bit easier, we are going to do some initial quality control (QC) on the data. There are a few things we should consider:\n",
    "\n",
    "1. The paxcal column indicates whether a person's monitor was calibrated or not. In order to ensure we only conduct analysis on valid data, we should discard observations where the monitor was not calibrated.\n",
    "2. Participants *should* have worn the device during all waking hours. It's doubtful as to whether participants complied with this- so we need to figure out a way to check.\n",
    "3. Participants were expected to wear the device for 7 days, however many didn't. We are going to restrict our sample to only those participants who had at least 4 valid days (this is common in the literature that uses the NHANES data set)"
   ]
  },
  {
   "cell_type": "markdown",
   "metadata": {},
   "source": [
    "## Cleaning Part I: Filtering miscalibrated devices\n",
    "\n",
    "The ```paxcal``` column indicates whether a participant's device was calibrated during a particular period of the study. Let's do some investigation in order to identify users with a high percentage of miscalibrated time"
   ]
  },
  {
   "cell_type": "code",
   "execution_count": 59,
   "metadata": {},
   "outputs": [],
   "source": [
    "# Map values to something more reasonable\n",
    "cal_map = {\n",
    "    1:1, # Keep 1 as meaning \"calibrated\"\n",
    "    2:0 # Set 2 to 0 to mean \"not calibrated\"\n",
    "}\n",
    "\n",
    "# Map old values using our new map\n",
    "pax_raw['paxcal'] = pax_raw.paxcal.map(cal_map)"
   ]
  },
  {
   "cell_type": "code",
   "execution_count": 60,
   "metadata": {},
   "outputs": [
    {
     "data": {
      "text/plain": [
       "1    0.952856\n",
       "0    0.047144\n",
       "Name: paxcal, dtype: float64"
      ]
     },
     "execution_count": 60,
     "metadata": {},
     "output_type": "execute_result"
    }
   ],
   "source": [
    "# Check proportion of calibrated minutes vs not: 1 id calibrated, else 0\n",
    "pax_raw.paxcal.value_counts() / len(pax_raw)"
   ]
  },
  {
   "cell_type": "code",
   "execution_count": 61,
   "metadata": {},
   "outputs": [
    {
     "data": {
      "text/plain": [
       "1    711\n",
       "0     35\n",
       "Name: paxcal, dtype: int64"
      ]
     },
     "execution_count": 61,
     "metadata": {},
     "output_type": "execute_result"
    }
   ],
   "source": [
    "# Check if users could be in calibration for only some days\n",
    "pax_raw.groupby('seqn').paxcal.mean().value_counts()"
   ]
  },
  {
   "cell_type": "markdown",
   "metadata": {},
   "source": [
    "It appears about 5% of observations are associated with a device that wasn't calibrated. We'll simply exclude those users/observations."
   ]
  },
  {
   "cell_type": "code",
   "execution_count": 62,
   "metadata": {
    "collapsed": true
   },
   "outputs": [],
   "source": [
    "pax_raw = pax_raw[pax_raw.paxcal==1].copy() # Keep only users with a calibrated device\n",
    "pax_raw.drop(columns='paxcal', inplace=True) # Drop the calibration column, we no longer need it"
   ]
  },
  {
   "cell_type": "markdown",
   "metadata": {},
   "source": [
    "Now, lets look at the distribution of steps/minute to get an idea of how steps are distributed."
   ]
  },
  {
   "cell_type": "code",
   "execution_count": 63,
   "metadata": {},
   "outputs": [
    {
     "data": {
      "text/plain": [
       "<matplotlib.axes._subplots.AxesSubplot at 0x11cc226d8>"
      ]
     },
     "execution_count": 63,
     "metadata": {},
     "output_type": "execute_result"
    },
    {
     "data": {
      "image/png": "[encoded data removed]",
      "text/plain": [
       "<matplotlib.figure.Figure at 0x1161cbb70>"
      ]
     },
     "metadata": {},
     "output_type": "display_data"
    }
   ],
   "source": [
    "pax_raw.paxstep.hist(bins=30)"
   ]
  },
  {
   "cell_type": "markdown",
   "metadata": {},
   "source": [
    "The above histogram is pretty worthless. What is going on here? **Stop and think for a moment. What should the distribution of walk steps look like?** Most of our days are spent *seated* meaning that we record zero steps during those minutes. A normal walking pace is around 100 steps per minute. If you are really running you may record 300+ steps per minute. So we expect the majority of the step density to be clustered at zero, perhaps like an exponential distribution. \n",
    "\n",
    "As a first invstigation, let's restrict our data to only minutes where observed steps are less than 300 and check out what the distrubution looks like."
   ]
  },
  {
   "cell_type": "code",
   "execution_count": 64,
   "metadata": {},
   "outputs": [
    {
     "data": {
      "text/plain": [
       "<matplotlib.axes._subplots.AxesSubplot at 0x18461b438>"
      ]
     },
     "execution_count": 64,
     "metadata": {},
     "output_type": "execute_result"
    },
    {
     "data": {
      "image/png": "[encoded data removed]",
      "text/plain": [
       "<matplotlib.figure.Figure at 0x11711c630>"
      ]
     },
     "metadata": {},
     "output_type": "display_data"
    }
   ],
   "source": [
    "step_threshold = 300\n",
    "pax_raw[pax_raw.paxstep<step_threshold].paxstep.hist(bins=30)"
   ]
  },
  {
   "cell_type": "markdown",
   "metadata": {},
   "source": [
    "Now the histogram is more infomative. Indeed, this confirms our prior: most minutes are spent seated, a moderately sized proportion are spent walking, and very few are spent at high intensities. Moreover, we suspect that some large outliers may be influencing the data. Let's investigate."
   ]
  },
  {
   "cell_type": "markdown",
   "metadata": {},
   "source": [
    "## Cleaning Part II: Handling outliers"
   ]
  },
  {
   "cell_type": "code",
   "execution_count": 65,
   "metadata": {},
   "outputs": [
    {
     "data": {
      "text/plain": [
       "count    7.130569e+06\n",
       "mean     6.922101e+00\n",
       "std      5.616775e+01\n",
       "min      0.000000e+00\n",
       "25%      0.000000e+00\n",
       "50%      0.000000e+00\n",
       "75%      2.000000e+00\n",
       "max      1.916400e+04\n",
       "Name: paxstep, dtype: float64"
      ]
     },
     "execution_count": 65,
     "metadata": {},
     "output_type": "execute_result"
    }
   ],
   "source": [
    "pax_raw.paxstep.describe()"
   ]
  },
  {
   "cell_type": "markdown",
   "metadata": {},
   "source": [
    "The max value is suspicious: 32,670 steps recorded in a minute? That seems superhuman! Indeed, too good to be true. It appears that the accelerometer that logs steps sometimes produces large outliers that are orders of magnitude larger than normal observations. This is a problem we will need to fix. In order to do so, we should identify a *reasonable threshold that meets the common sense test*. What is the common sense test? While it isn't a statistical test, it may actually be the most important test to master in data science. We simply need to ask ourselves, what is a reasonable number of steps $s$ for which it would be unlikely that a sensor reading above $s$ is legitimate?"
   ]
  },
  {
   "cell_type": "code",
   "execution_count": 66,
   "metadata": {},
   "outputs": [
    {
     "name": "stdout",
     "output_type": "stream",
     "text": [
      "Percent of minutes with > 300 steps: 0.12467436010779494\n"
     ]
    }
   ],
   "source": [
    "pct_outliers = len(pax_raw[pax_raw.paxstep>step_threshold]) / len(pax_raw)*100\n",
    "print(f'Percent of minutes with > {step_threshold} steps: {pct_outliers}')"
   ]
  },
  {
   "cell_type": "markdown",
   "metadata": {},
   "source": [
    "So we have chosen a \"reasonable\" threshold of 300 steps/minute. Now what? We have a few options. We could:\n",
    "- Drop the observations that are above our threshold (this is not ideal given that we are dealing with time series data)\n",
    "- Set these observations to a null value, and then fill them using some yet to be defined strategy\n",
    "- \"Winsorize them\" meaning we set them to a fixed percentile value drawn from the distribution of steps\n",
    "\n",
    "Each of these strategies forces us to make assumptions about the data that may not be true. It's up to us as the practitioner to decide which methods will help us best accomplish the goal at hand- whether that is inference or prediction. In a prediction setting, you could actually determine the \"best\" strategy using a data driven approach via cross validation. We should probably explore *why* we see outliers before making any decisions."
   ]
  },
  {
   "cell_type": "code",
   "execution_count": 67,
   "metadata": {},
   "outputs": [
    {
     "data": {
      "text/html": [
       "<div>\n",
       "<style scoped>\n",
       "    .dataframe tbody tr th:only-of-type {\n",
       "        vertical-align: middle;\n",
       "    }\n",
       "\n",
       "    .dataframe tbody tr th {\n",
       "        vertical-align: top;\n",
       "    }\n",
       "\n",
       "    .dataframe thead th {\n",
       "        text-align: right;\n",
       "    }\n",
       "</style>\n",
       "<table border=\"1\" class=\"dataframe\">\n",
       "  <thead>\n",
       "    <tr style=\"text-align: right;\">\n",
       "      <th></th>\n",
       "      <th>seqn</th>\n",
       "      <th>paxstat</th>\n",
       "      <th>paxday</th>\n",
       "      <th>paxn</th>\n",
       "      <th>paxhour</th>\n",
       "      <th>paxminut</th>\n",
       "      <th>paxinten</th>\n",
       "      <th>paxstep</th>\n",
       "      <th>minute_of_day</th>\n",
       "    </tr>\n",
       "  </thead>\n",
       "  <tbody>\n",
       "    <tr>\n",
       "      <th>6624088</th>\n",
       "      <td>40244.0</td>\n",
       "      <td>2</td>\n",
       "      <td>7</td>\n",
       "      <td>6630</td>\n",
       "      <td>14</td>\n",
       "      <td>29</td>\n",
       "      <td>0</td>\n",
       "      <td>1433.0</td>\n",
       "      <td>869</td>\n",
       "    </tr>\n",
       "    <tr>\n",
       "      <th>6624106</th>\n",
       "      <td>40244.0</td>\n",
       "      <td>2</td>\n",
       "      <td>7</td>\n",
       "      <td>6648</td>\n",
       "      <td>14</td>\n",
       "      <td>47</td>\n",
       "      <td>4</td>\n",
       "      <td>485.0</td>\n",
       "      <td>887</td>\n",
       "    </tr>\n",
       "    <tr>\n",
       "      <th>6624114</th>\n",
       "      <td>40244.0</td>\n",
       "      <td>2</td>\n",
       "      <td>7</td>\n",
       "      <td>6656</td>\n",
       "      <td>14</td>\n",
       "      <td>55</td>\n",
       "      <td>175</td>\n",
       "      <td>1851.0</td>\n",
       "      <td>895</td>\n",
       "    </tr>\n",
       "    <tr>\n",
       "      <th>6624119</th>\n",
       "      <td>40244.0</td>\n",
       "      <td>2</td>\n",
       "      <td>7</td>\n",
       "      <td>6661</td>\n",
       "      <td>15</td>\n",
       "      <td>0</td>\n",
       "      <td>0</td>\n",
       "      <td>337.0</td>\n",
       "      <td>900</td>\n",
       "    </tr>\n",
       "    <tr>\n",
       "      <th>6624210</th>\n",
       "      <td>40244.0</td>\n",
       "      <td>2</td>\n",
       "      <td>7</td>\n",
       "      <td>6752</td>\n",
       "      <td>16</td>\n",
       "      <td>31</td>\n",
       "      <td>74</td>\n",
       "      <td>464.0</td>\n",
       "      <td>991</td>\n",
       "    </tr>\n",
       "    <tr>\n",
       "      <th>6624211</th>\n",
       "      <td>40244.0</td>\n",
       "      <td>2</td>\n",
       "      <td>7</td>\n",
       "      <td>6753</td>\n",
       "      <td>16</td>\n",
       "      <td>32</td>\n",
       "      <td>109</td>\n",
       "      <td>726.0</td>\n",
       "      <td>992</td>\n",
       "    </tr>\n",
       "    <tr>\n",
       "      <th>6624214</th>\n",
       "      <td>40244.0</td>\n",
       "      <td>2</td>\n",
       "      <td>7</td>\n",
       "      <td>6756</td>\n",
       "      <td>16</td>\n",
       "      <td>35</td>\n",
       "      <td>196</td>\n",
       "      <td>327.0</td>\n",
       "      <td>995</td>\n",
       "    </tr>\n",
       "    <tr>\n",
       "      <th>6624216</th>\n",
       "      <td>40244.0</td>\n",
       "      <td>2</td>\n",
       "      <td>7</td>\n",
       "      <td>6758</td>\n",
       "      <td>16</td>\n",
       "      <td>37</td>\n",
       "      <td>65</td>\n",
       "      <td>531.0</td>\n",
       "      <td>997</td>\n",
       "    </tr>\n",
       "    <tr>\n",
       "      <th>6624224</th>\n",
       "      <td>40244.0</td>\n",
       "      <td>2</td>\n",
       "      <td>7</td>\n",
       "      <td>6766</td>\n",
       "      <td>16</td>\n",
       "      <td>45</td>\n",
       "      <td>1</td>\n",
       "      <td>751.0</td>\n",
       "      <td>1005</td>\n",
       "    </tr>\n",
       "    <tr>\n",
       "      <th>6624245</th>\n",
       "      <td>40244.0</td>\n",
       "      <td>2</td>\n",
       "      <td>7</td>\n",
       "      <td>6787</td>\n",
       "      <td>17</td>\n",
       "      <td>6</td>\n",
       "      <td>929</td>\n",
       "      <td>354.0</td>\n",
       "      <td>1026</td>\n",
       "    </tr>\n",
       "    <tr>\n",
       "      <th>6624289</th>\n",
       "      <td>40244.0</td>\n",
       "      <td>2</td>\n",
       "      <td>7</td>\n",
       "      <td>6831</td>\n",
       "      <td>17</td>\n",
       "      <td>50</td>\n",
       "      <td>2816</td>\n",
       "      <td>437.0</td>\n",
       "      <td>1070</td>\n",
       "    </tr>\n",
       "    <tr>\n",
       "      <th>6624290</th>\n",
       "      <td>40244.0</td>\n",
       "      <td>2</td>\n",
       "      <td>7</td>\n",
       "      <td>6832</td>\n",
       "      <td>17</td>\n",
       "      <td>51</td>\n",
       "      <td>2673</td>\n",
       "      <td>2679.0</td>\n",
       "      <td>1071</td>\n",
       "    </tr>\n",
       "    <tr>\n",
       "      <th>6624293</th>\n",
       "      <td>40244.0</td>\n",
       "      <td>2</td>\n",
       "      <td>7</td>\n",
       "      <td>6835</td>\n",
       "      <td>17</td>\n",
       "      <td>54</td>\n",
       "      <td>0</td>\n",
       "      <td>320.0</td>\n",
       "      <td>1074</td>\n",
       "    </tr>\n",
       "    <tr>\n",
       "      <th>6624302</th>\n",
       "      <td>40244.0</td>\n",
       "      <td>2</td>\n",
       "      <td>7</td>\n",
       "      <td>6844</td>\n",
       "      <td>18</td>\n",
       "      <td>3</td>\n",
       "      <td>166</td>\n",
       "      <td>3189.0</td>\n",
       "      <td>1083</td>\n",
       "    </tr>\n",
       "    <tr>\n",
       "      <th>6624308</th>\n",
       "      <td>40244.0</td>\n",
       "      <td>2</td>\n",
       "      <td>7</td>\n",
       "      <td>6850</td>\n",
       "      <td>18</td>\n",
       "      <td>9</td>\n",
       "      <td>291</td>\n",
       "      <td>569.0</td>\n",
       "      <td>1089</td>\n",
       "    </tr>\n",
       "    <tr>\n",
       "      <th>6624310</th>\n",
       "      <td>40244.0</td>\n",
       "      <td>2</td>\n",
       "      <td>7</td>\n",
       "      <td>6852</td>\n",
       "      <td>18</td>\n",
       "      <td>11</td>\n",
       "      <td>0</td>\n",
       "      <td>431.0</td>\n",
       "      <td>1091</td>\n",
       "    </tr>\n",
       "    <tr>\n",
       "      <th>6624312</th>\n",
       "      <td>40244.0</td>\n",
       "      <td>2</td>\n",
       "      <td>7</td>\n",
       "      <td>6854</td>\n",
       "      <td>18</td>\n",
       "      <td>13</td>\n",
       "      <td>0</td>\n",
       "      <td>555.0</td>\n",
       "      <td>1093</td>\n",
       "    </tr>\n",
       "    <tr>\n",
       "      <th>6624318</th>\n",
       "      <td>40244.0</td>\n",
       "      <td>2</td>\n",
       "      <td>7</td>\n",
       "      <td>6860</td>\n",
       "      <td>18</td>\n",
       "      <td>19</td>\n",
       "      <td>422</td>\n",
       "      <td>712.0</td>\n",
       "      <td>1099</td>\n",
       "    </tr>\n",
       "    <tr>\n",
       "      <th>6624323</th>\n",
       "      <td>40244.0</td>\n",
       "      <td>2</td>\n",
       "      <td>7</td>\n",
       "      <td>6865</td>\n",
       "      <td>18</td>\n",
       "      <td>24</td>\n",
       "      <td>0</td>\n",
       "      <td>614.0</td>\n",
       "      <td>1104</td>\n",
       "    </tr>\n",
       "    <tr>\n",
       "      <th>6624324</th>\n",
       "      <td>40244.0</td>\n",
       "      <td>2</td>\n",
       "      <td>7</td>\n",
       "      <td>6866</td>\n",
       "      <td>18</td>\n",
       "      <td>25</td>\n",
       "      <td>0</td>\n",
       "      <td>1694.0</td>\n",
       "      <td>1105</td>\n",
       "    </tr>\n",
       "  </tbody>\n",
       "</table>\n",
       "</div>"
      ],
      "text/plain": [
       "            seqn  paxstat  paxday  paxn  paxhour  paxminut  paxinten  paxstep  \\\n",
       "6624088  40244.0        2       7  6630       14        29         0   1433.0   \n",
       "6624106  40244.0        2       7  6648       14        47         4    485.0   \n",
       "6624114  40244.0        2       7  6656       14        55       175   1851.0   \n",
       "6624119  40244.0        2       7  6661       15         0         0    337.0   \n",
       "6624210  40244.0        2       7  6752       16        31        74    464.0   \n",
       "6624211  40244.0        2       7  6753       16        32       109    726.0   \n",
       "6624214  40244.0        2       7  6756       16        35       196    327.0   \n",
       "6624216  40244.0        2       7  6758       16        37        65    531.0   \n",
       "6624224  40244.0        2       7  6766       16        45         1    751.0   \n",
       "6624245  40244.0        2       7  6787       17         6       929    354.0   \n",
       "6624289  40244.0        2       7  6831       17        50      2816    437.0   \n",
       "6624290  40244.0        2       7  6832       17        51      2673   2679.0   \n",
       "6624293  40244.0        2       7  6835       17        54         0    320.0   \n",
       "6624302  40244.0        2       7  6844       18         3       166   3189.0   \n",
       "6624308  40244.0        2       7  6850       18         9       291    569.0   \n",
       "6624310  40244.0        2       7  6852       18        11         0    431.0   \n",
       "6624312  40244.0        2       7  6854       18        13         0    555.0   \n",
       "6624318  40244.0        2       7  6860       18        19       422    712.0   \n",
       "6624323  40244.0        2       7  6865       18        24         0    614.0   \n",
       "6624324  40244.0        2       7  6866       18        25         0   1694.0   \n",
       "\n",
       "         minute_of_day  \n",
       "6624088            869  \n",
       "6624106            887  \n",
       "6624114            895  \n",
       "6624119            900  \n",
       "6624210            991  \n",
       "6624211            992  \n",
       "6624214            995  \n",
       "6624216            997  \n",
       "6624224           1005  \n",
       "6624245           1026  \n",
       "6624289           1070  \n",
       "6624290           1071  \n",
       "6624293           1074  \n",
       "6624302           1083  \n",
       "6624308           1089  \n",
       "6624310           1091  \n",
       "6624312           1093  \n",
       "6624318           1099  \n",
       "6624323           1104  \n",
       "6624324           1105  "
      ]
     },
     "execution_count": 67,
     "metadata": {},
     "output_type": "execute_result"
    }
   ],
   "source": [
    "# Where are the \"outliers\"?\n",
    "pax_raw[pax_raw.paxstep > step_threshold].tail(20)"
   ]
  },
  {
   "cell_type": "markdown",
   "metadata": {},
   "source": [
    "Browsing through the data above, it appears that outliers are idiosyncatic sensor \"misfires\". While that *could* be an incorrect interpretation, i'm going to choose to use linear interpolation for outlier points. In other words, i'll set all outliers to be null, and then i'll fit a line between the two points on either side of the outlier to fill the value."
   ]
  },
  {
   "cell_type": "code",
   "execution_count": 68,
   "metadata": {
    "collapsed": true
   },
   "outputs": [],
   "source": [
    "# Set outliers to be null\n",
    "pax_raw.loc[pax_raw.paxstep > step_threshold, 'paxstep'] = np.nan\n",
    "\n",
    "# Use linear interpolation within seqn to fill now missing values\n",
    "# Check out the docs for pandas.DataFrame.interpolate if this seems\n",
    "# like magic\n",
    "pax_raw['paxstep'] = pax_raw.groupby('seqn').paxstep.transform(pd.DataFrame.interpolate, method='linear')"
   ]
  },
  {
   "cell_type": "code",
   "execution_count": 69,
   "metadata": {},
   "outputs": [
    {
     "data": {
      "text/plain": [
       "True"
      ]
     },
     "execution_count": 69,
     "metadata": {},
     "output_type": "execute_result"
    }
   ],
   "source": [
    "# Check that the largest observed value is <= step threshold\n",
    "pax_raw.paxstep.max() <= step_threshold"
   ]
  },
  {
   "cell_type": "markdown",
   "metadata": {},
   "source": [
    "## Cleaning Part III: Ensuring wear time\n",
    "\n",
    "The physical activity monitor for the NHANES data was worn on the hip- which seems very inconvenient. In order to make sure our data is dense for each subject we include let's make the following inclusion rule: **In order for a person-day** to be included in our final dataset, the person must have worn the device for at least ten hours.\n",
    "\n",
    "How will we determine this? The NHANES documentation states that ```paxinten``` values of zero are associated with the monitor not being worn. So we need to ensure that at least 10 hours are not zero valued."
   ]
  },
  {
   "cell_type": "code",
   "execution_count": 70,
   "metadata": {},
   "outputs": [
    {
     "data": {
      "text/html": [
       "<div>\n",
       "<style scoped>\n",
       "    .dataframe tbody tr th:only-of-type {\n",
       "        vertical-align: middle;\n",
       "    }\n",
       "\n",
       "    .dataframe tbody tr th {\n",
       "        vertical-align: top;\n",
       "    }\n",
       "\n",
       "    .dataframe thead th {\n",
       "        text-align: right;\n",
       "    }\n",
       "</style>\n",
       "<table border=\"1\" class=\"dataframe\">\n",
       "  <thead>\n",
       "    <tr style=\"text-align: right;\">\n",
       "      <th></th>\n",
       "      <th>seqn</th>\n",
       "      <th>paxstat</th>\n",
       "      <th>paxday</th>\n",
       "      <th>paxn</th>\n",
       "      <th>paxhour</th>\n",
       "      <th>paxminut</th>\n",
       "      <th>paxinten</th>\n",
       "      <th>paxstep</th>\n",
       "      <th>minute_of_day</th>\n",
       "    </tr>\n",
       "  </thead>\n",
       "  <tbody>\n",
       "    <tr>\n",
       "      <th>0</th>\n",
       "      <td>31151.0</td>\n",
       "      <td>1</td>\n",
       "      <td>1</td>\n",
       "      <td>1</td>\n",
       "      <td>0</td>\n",
       "      <td>0</td>\n",
       "      <td>0</td>\n",
       "      <td>0.0</td>\n",
       "      <td>0</td>\n",
       "    </tr>\n",
       "    <tr>\n",
       "      <th>1</th>\n",
       "      <td>31151.0</td>\n",
       "      <td>1</td>\n",
       "      <td>1</td>\n",
       "      <td>2</td>\n",
       "      <td>0</td>\n",
       "      <td>1</td>\n",
       "      <td>0</td>\n",
       "      <td>0.0</td>\n",
       "      <td>1</td>\n",
       "    </tr>\n",
       "    <tr>\n",
       "      <th>2</th>\n",
       "      <td>31151.0</td>\n",
       "      <td>1</td>\n",
       "      <td>1</td>\n",
       "      <td>3</td>\n",
       "      <td>0</td>\n",
       "      <td>2</td>\n",
       "      <td>0</td>\n",
       "      <td>0.0</td>\n",
       "      <td>2</td>\n",
       "    </tr>\n",
       "    <tr>\n",
       "      <th>3</th>\n",
       "      <td>31151.0</td>\n",
       "      <td>1</td>\n",
       "      <td>1</td>\n",
       "      <td>4</td>\n",
       "      <td>0</td>\n",
       "      <td>3</td>\n",
       "      <td>0</td>\n",
       "      <td>0.0</td>\n",
       "      <td>3</td>\n",
       "    </tr>\n",
       "    <tr>\n",
       "      <th>4</th>\n",
       "      <td>31151.0</td>\n",
       "      <td>1</td>\n",
       "      <td>1</td>\n",
       "      <td>5</td>\n",
       "      <td>0</td>\n",
       "      <td>4</td>\n",
       "      <td>0</td>\n",
       "      <td>0.0</td>\n",
       "      <td>4</td>\n",
       "    </tr>\n",
       "  </tbody>\n",
       "</table>\n",
       "</div>"
      ],
      "text/plain": [
       "      seqn  paxstat  paxday  paxn  paxhour  paxminut  paxinten  paxstep  \\\n",
       "0  31151.0        1       1     1        0         0         0      0.0   \n",
       "1  31151.0        1       1     2        0         1         0      0.0   \n",
       "2  31151.0        1       1     3        0         2         0      0.0   \n",
       "3  31151.0        1       1     4        0         3         0      0.0   \n",
       "4  31151.0        1       1     5        0         4         0      0.0   \n",
       "\n",
       "   minute_of_day  \n",
       "0              0  \n",
       "1              1  \n",
       "2              2  \n",
       "3              3  \n",
       "4              4  "
      ]
     },
     "execution_count": 70,
     "metadata": {},
     "output_type": "execute_result"
    }
   ],
   "source": [
    "pax_raw.head()"
   ]
  },
  {
   "cell_type": "code",
   "execution_count": 71,
   "metadata": {
    "collapsed": true
   },
   "outputs": [],
   "source": [
    "# Require 600 minutes of wear time\n",
    "min_req_wear_time = 60*10\n",
    "\n",
    "# Create a boolean \"mask\" denoting person-days with > 600 minutes of wear time\n",
    "keep_days = pax_raw[pax_raw.paxinten > 0].groupby(['seqn', 'paxday']).paxinten.count() >= min_req_wear_time\n",
    "\n",
    "# Turn the multi-indexed series back into a DataFrame\n",
    "keep_days = keep_days.reset_index()\n",
    "\n",
    "# Keep only user-days where we observe the min required wear time\n",
    "keep_days = keep_days.loc[keep_days.paxinten==True, ['seqn', 'paxday']]"
   ]
  },
  {
   "cell_type": "code",
   "execution_count": 72,
   "metadata": {},
   "outputs": [
    {
     "data": {
      "text/plain": [
       "7130576"
      ]
     },
     "execution_count": 72,
     "metadata": {},
     "output_type": "execute_result"
    }
   ],
   "source": [
    "# Check how many rows there are before filtering\n",
    "len(pax_raw)"
   ]
  },
  {
   "cell_type": "code",
   "execution_count": 73,
   "metadata": {
    "collapsed": true
   },
   "outputs": [],
   "source": [
    "# Inner join pax_raw with the rows we want to keep\n",
    "pax_raw = pax_raw.merge(keep_days, on=['seqn', 'paxday'], how='inner')"
   ]
  },
  {
   "cell_type": "code",
   "execution_count": 74,
   "metadata": {},
   "outputs": [
    {
     "data": {
      "text/plain": [
       "3035520"
      ]
     },
     "execution_count": 74,
     "metadata": {},
     "output_type": "execute_result"
    }
   ],
   "source": [
    "# Check number of rows post filtering\n",
    "len(pax_raw)"
   ]
  },
  {
   "cell_type": "markdown",
   "metadata": {},
   "source": [
    "What did we do in the above process? Essentially, what we did was a *set intersection*. We found the set of person-day ids (seqn-paxday) that had at least 600 minutes of wear time. We then *intersected* that set with the set of person-day ids in the original activity data set. This is known as an *inner join: keep all rows that belong to the set of keys belonging to both join sets*."
   ]
  },
  {
   "cell_type": "markdown",
   "metadata": {},
   "source": [
    "## Clean Part IV: Ensuring wear days\n",
    "\n",
    "The last step in cleaning our data is to ensure that all participants have worn the device for at least 10 hours per day, on at least four of the days of the seven day study period. This is a common cleaning step mentioned in the literature that uses the NHANES dataset, and we will follow suit here."
   ]
  },
  {
   "cell_type": "code",
   "execution_count": 75,
   "metadata": {
    "collapsed": true
   },
   "outputs": [],
   "source": [
    "# Let's again use the inner join method we used above\n",
    "n_user_days = pax_raw[['seqn', 'paxday']].drop_duplicates().groupby('seqn').size()"
   ]
  },
  {
   "cell_type": "code",
   "execution_count": 76,
   "metadata": {},
   "outputs": [
    {
     "data": {
      "text/plain": [
       "<matplotlib.lines.Line2D at 0x110bd6fd0>"
      ]
     },
     "execution_count": 76,
     "metadata": {},
     "output_type": "execute_result"
    },
    {
     "data": {
      "image/png": "[encoded data removed]",
      "text/plain": [
       "<matplotlib.figure.Figure at 0x110bd6160>"
      ]
     },
     "metadata": {},
     "output_type": "display_data"
    }
   ],
   "source": [
    "# Check out the distribution of days worn\n",
    "n_user_days.hist()\n",
    "plt.axvline(x=4, c='r', linestyle='--')"
   ]
  },
  {
   "cell_type": "code",
   "execution_count": 77,
   "metadata": {},
   "outputs": [
    {
     "data": {
      "text/plain": [
       "1    95\n",
       "2    88\n",
       "3    75\n",
       "4    88\n",
       "5    89\n",
       "6    74\n",
       "7    53\n",
       "dtype: int64"
      ]
     },
     "execution_count": 77,
     "metadata": {},
     "output_type": "execute_result"
    }
   ],
   "source": [
    "# Check out the actual counts within each wear day bin\n",
    "n_user_days.value_counts().sort_index()"
   ]
  },
  {
   "cell_type": "code",
   "execution_count": 78,
   "metadata": {
    "collapsed": true
   },
   "outputs": [],
   "source": [
    "# Drop users who don't have at least 4 days\n",
    "keep_day_threshold = 4\n",
    "n_user_days = n_user_days.loc[n_user_days >= keep_day_threshold].reset_index()\n",
    "\n",
    "# Keep only seqn for joining purposes\n",
    "n_user_days = n_user_days[['seqn']]"
   ]
  },
  {
   "cell_type": "code",
   "execution_count": 79,
   "metadata": {
    "collapsed": true
   },
   "outputs": [],
   "source": [
    "# Rejoin this set of ids into the pax_raw dataframe\n",
    "pax_raw = pax_raw.merge(n_user_days, on='seqn', how='inner')"
   ]
  },
  {
   "cell_type": "code",
   "execution_count": 80,
   "metadata": {},
   "outputs": [
    {
     "name": "stdout",
     "output_type": "stream",
     "text": [
      "Total participants remaining in analysis set: 304\n"
     ]
    }
   ],
   "source": [
    "n_final_participants = pax_raw.seqn.nunique()\n",
    "print(f'Total participants remaining in analysis set: {n_final_participants}')"
   ]
  },
  {
   "cell_type": "code",
   "execution_count": 84,
   "metadata": {
    "collapsed": true
   },
   "outputs": [],
   "source": [
    "# Save cleaned data to our hdf store\n",
    "if using_sample:\n",
    "        pax_raw.to_hdf(os.path.join(data_dir, hdf_path), 'pax_clean_sample')\n",
    "else:\n",
    "    pax_raw.to_hdf(os.path.join(data_dir, hdf_path), 'pax_clean')"
   ]
  }
 ],
 "metadata": {
  "kernelspec": {
   "display_name": "Python 3",
   "language": "python",
   "name": "python3"
  },
  "language_info": {
   "codemirror_mode": {
    "name": "ipython",
    "version": 3
   },
   "file_extension": ".py",
   "mimetype": "text/x-python",
   "name": "python",
   "nbconvert_exporter": "python",
   "pygments_lexer": "ipython3",
   "version": "3.6.2"
  },
  "toc": {
   "nav_menu": {},
   "number_sections": true,
   "sideBar": true,
   "skip_h1_title": false,
   "toc_cell": false,
   "toc_position": {
    "height": "calc(100% - 180px)",
    "left": "10px",
    "top": "150px",
    "width": "269px"
   },
   "toc_section_display": "block",
   "toc_window_display": true
  },
  "varInspector": {
   "cols": {
    "lenName": 16,
    "lenType": 16,
    "lenVar": 40
   },
   "kernels_config": {
    "python": {
     "delete_cmd_postfix": "",
     "delete_cmd_prefix": "del ",
     "library": "var_list.py",
     "varRefreshCmd": "print(var_dic_list())"
    },
    "r": {
     "delete_cmd_postfix": ") ",
     "delete_cmd_prefix": "rm(",
     "library": "var_list.r",
     "varRefreshCmd": "cat(var_dic_list()) "
    }
   },
   "types_to_exclude": [
    "module",
    "function",
    "builtin_function_or_method",
    "instance",
    "_Feature"
   ],
   "window_display": false
  }
 },
 "nbformat": 4,
 "nbformat_minor": 2
}

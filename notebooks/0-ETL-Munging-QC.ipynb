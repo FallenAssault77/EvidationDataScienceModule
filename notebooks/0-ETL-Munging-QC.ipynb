{
 "cells": [
  {
   "cell_type": "markdown",
   "metadata": {},
   "source": [
    "# Summary"
   ]
  },
  {
   "cell_type": "markdown",
   "metadata": {},
   "source": [
    "This notebook conducts what's known as an *ETL* pipeline. ETL stand for *Extract-Transform-Load*. Data science projects almost always begin by deciding what data we need to conduct an analysis, what transformations need to be performed on the data, and how the data should be stored for efficient manipulation/joining.\n",
    "\n",
    "In this notebook we will:\n",
    "- Pull down several raw datasets contained on the [NHANES website](https://en.wikipedia.org/wiki/Hierarchical_Data_Format). We'll do this using a combination of bash and pandas: bash for the datasets that need to be unzipped, pandas for those we can read directly from source.\n",
    "- Store the raw SAS format data as something more reasonable and modern (I'm going to use [HDF format](https://github.com/wesm/feather) which is a super fast binary data representation, but feel free to play around with .h5 or another format as you see fit)\n",
    "- Do some initial QC checks on the data to ensure everything looks reasonable."
   ]
  },
  {
   "cell_type": "markdown",
   "metadata": {},
   "source": [
    "# Learning Objectives\n",
    "\n",
    "After completing this module you should be able to do the following:\n",
    "\n",
    "1. Use pandas to pull raw data from source\n",
    "2. Use ```wget``` and ```unzip``` to pull in data that can't be read directly from source via pandas\n",
    "3. Understand why data compression is important, and how to downcast datatypes for efficient memory allocation\n",
    "4. Construct basic visualization tools for checking data quality\n",
    "5. Understand what metadata is, and build some tools for efficiently binding data with metadata\n",
    "6. Understand how to join together two relational tables"
   ]
  },
  {
   "cell_type": "markdown",
   "metadata": {},
   "source": [
    "# Initialize\n",
    "\n",
    "Below are the external dependencies this notebook depends on to function. If you don't have these installed you can install them using pip or conda- whichever you typically use as your package manager."
   ]
  },
  {
   "cell_type": "code",
   "execution_count": 1,
   "metadata": {
    "ExecuteTime": {
     "end_time": "2018-03-28T17:17:50.895466Z",
     "start_time": "2018-03-28T17:17:50.327235Z"
    }
   },
   "outputs": [],
   "source": [
    "import pandas as pd\n",
    "import numpy as np\n",
    "import os\n",
    "import matplotlib.pyplot as plt\n",
    "import utils # Utility functions we will use\n",
    "import scipy\n",
    "\n",
    "%matplotlib inline\n",
    "%load_ext autoreload\n",
    "%autoreload 2\n",
    "\n",
    "pd.set_option('max.rows', 100)\n",
    "pd.set_option('max.columns', 100)\n",
    "\n",
    "data_dir = '/Users/bbradshaw/nhanes/' # Change this location to the path where you would like your data saved to\n",
    "hdf_path = 'nhanes.h5' # Path to hdf store we will create later"
   ]
  },
  {
   "cell_type": "markdown",
   "metadata": {},
   "source": [
    "# Download, unzip, and save raw physical activity monitor data.\n",
    "\n",
    "The raw PAX data is zipped due to its size and can't be read directly into pandas. We use the following steps to get it into a more manageable format:\n",
    "1. Download the data using the bash command ```wget```\n",
    "2. Unzip the downlaoded data using the bash command ```unzip```\n",
    "3. Read the data into pandas, and downcast data types to save on memory. The machine we are using has 32G of RAM, if your machine has less you may have issues with this step. If that's the case we suggest you don't actually run this portion of the ETL pipeline but rather use the ```nhanes.h5``` store we have written out and supplied to you."
   ]
  },
  {
   "cell_type": "code",
   "execution_count": 3,
   "metadata": {
    "ExecuteTime": {
     "start_time": "2018-03-27T22:11:52.374Z"
    }
   },
   "outputs": [
    {
     "name": "stdout",
     "output_type": "stream",
     "text": [
      "--2018-04-16 14:56:25--  https://wwwn.cdc.gov/Nchs/Nhanes/2005-2006/PAXRAW_D.ZIP\n",
      "Resolving wwwn.cdc.gov... 198.246.102.39\n",
      "Connecting to wwwn.cdc.gov|198.246.102.39|:443... connected.\n",
      "HTTP request sent, awaiting response... 200 OK\n",
      "Length: 470990068 (449M) [application/x-zip-compressed]\n",
      "Saving to: ‘PAXRAW_D.ZIP’\n",
      "\n",
      "PAXRAW_D.ZIP        100%[===================>] 449.17M   925KB/s    in 9m 58s  \n",
      "\n",
      "2018-04-16 15:06:24 (769 KB/s) - ‘PAXRAW_D.ZIP’ saved [470990068/470990068]\n",
      "\n",
      "Archive:  /Users/bbradshaw/nhanes/PAXRAW_D.ZIP\n",
      "  inflating: /Users/bbradshaw/nhanes/paxraw_d.xpt  \n"
     ]
    }
   ],
   "source": [
    "###############################################################\n",
    "# RUN THIS BLOCK ONLY IF YOU WANT TO RECREATE THE ETL PROCESS # \n",
    "# OTHERWISE READ THE PREPROCESSED FILE - IT TAKES FOREVER     #\n",
    "# AND ISN'T THAT INTERESTING                                  #\n",
    "###############################################################\n",
    "\n",
    "! wget https://wwwn.cdc.gov/Nchs/Nhanes/2005-2006/PAXRAW_D.ZIP\n",
    "! mv PAXRAW_D.ZIP {data_dir}\n",
    "! unzip {data_dir}PAXRAW_D.ZIP -d {data_dir}"
   ]
  },
  {
   "cell_type": "code",
   "execution_count": 4,
   "metadata": {
    "collapsed": true
   },
   "outputs": [],
   "source": [
    "#############################################################\n",
    "# AGAIN - ONLY RUN THIS BLOCK IF YOU ARE CURIOUS, IT TAKES  # \n",
    "# A LONG TIME, AND IT'S EASIER/FASTER TO USE THE HDF STORE  #\n",
    "# WE PROVIDE THAT HAS ALREADY PROCESSED THE DATA            #\n",
    "#############################################################\n",
    "! python -m xport {data_dir}paxraw_d.xpt > {data_dir}paxraw_d.csv"
   ]
  },
  {
   "cell_type": "code",
   "execution_count": 14,
   "metadata": {
    "ExecuteTime": {
     "end_time": "2018-03-28T16:54:42.453813Z",
     "start_time": "2018-03-28T16:54:42.421436Z"
    },
    "collapsed": true
   },
   "outputs": [],
   "source": [
    "# Using the default float types is extremely memory intensive given the number of rows we are dealing with. \n",
    "# Let's downcast each column appropriately.\n",
    "\n",
    "type_map = {\n",
    "    'SEQN': 'object',\n",
    "    'PAXSTAT': np.int8,\n",
    "    'PAXCAL': np.int8,\n",
    "    'PAXDAY': np.int8,\n",
    "    'PAXHOUR': np.int16,\n",
    "    'PAXMINUT': np.int16,\n",
    "    'PAXINTEN': np.int16,\n",
    "    'PAXSTEP': np.float32,\n",
    "    'PAXN': np.int16\n",
    "}"
   ]
  },
  {
   "cell_type": "code",
   "execution_count": 15,
   "metadata": {},
   "outputs": [
    {
     "name": "stdout",
     "output_type": "stream",
     "text": [
      "CPU times: user 1min 37s, sys: 8.36 s, total: 1min 45s\n",
      "Wall time: 1min 51s\n"
     ]
    }
   ],
   "source": [
    "# Read the csv file we just created into memory in order to downcast\n",
    "# NOTE: Reading in the raw csv requires quite a bit of memory before downcast\n",
    "pax_path = 'paxraw_d.csv'\n",
    "%time pax_raw = pd.read_csv(os.path.join(data_dir, pax_path), dtype=type_map)"
   ]
  },
  {
   "cell_type": "code",
   "execution_count": 10,
   "metadata": {
    "ExecuteTime": {
     "end_time": "2018-03-28T16:56:28.086243Z",
     "start_time": "2018-03-28T16:56:28.014575Z"
    },
    "collapsed": true
   },
   "outputs": [],
   "source": [
    "# pythonize column names\n",
    "pax_raw.columns = [x.lower() for x in pax_raw.columns]"
   ]
  },
  {
   "cell_type": "code",
   "execution_count": 11,
   "metadata": {
    "ExecuteTime": {
     "end_time": "2018-03-28T16:56:29.940998Z",
     "start_time": "2018-03-28T16:56:29.897289Z"
    }
   },
   "outputs": [
    {
     "name": "stdout",
     "output_type": "stream",
     "text": [
      "<class 'pandas.core.frame.DataFrame'>\n",
      "RangeIndex: 74874095 entries, 0 to 74874094\n",
      "Data columns (total 9 columns):\n",
      "seqn        object\n",
      "paxstat     int8\n",
      "paxcal      int8\n",
      "paxday      int8\n",
      "paxn        int16\n",
      "paxhour     int16\n",
      "paxminut    int16\n",
      "paxinten    int16\n",
      "paxstep     float32\n",
      "dtypes: float32(1), int16(4), int8(3), object(1)\n",
      "memory usage: 1.6+ GB\n"
     ]
    }
   ],
   "source": [
    "# Display dataframe types and usage statistics\n",
    "pax_raw.info()"
   ]
  },
  {
   "cell_type": "markdown",
   "metadata": {},
   "source": [
    "You can see that downcasting our types saved us a *significant* amount of memory (prior to specifying the datatypes the datframe was consuming 8+ GB of memory). We manually inferred the best datatypes, but for datasets with larger numbers of columns it would be more efficient to automatically infer the datatypes."
   ]
  },
  {
   "cell_type": "markdown",
   "metadata": {},
   "source": [
    "We will store our data in an HDF store. An HDF store is very similar to a database like SQLite or PostgreSQL in that you can store several tables under one store. Additionally, HDF preserves python data types between write and read- which is a very nice property for dates or in our case memory savings. You can see in the code block below that we can list the table keys stored in our HDF store. Finally, I/O operations are *much* faster than file formats such as csv, sometimes by as much as 100x."
   ]
  },
  {
   "cell_type": "code",
   "execution_count": 13,
   "metadata": {
    "ExecuteTime": {
     "end_time": "2018-03-28T16:57:09.560643Z",
     "start_time": "2018-03-28T16:57:00.408018Z"
    },
    "collapsed": true
   },
   "outputs": [],
   "source": [
    "pax_raw.to_hdf(os.path.join(data_dir, hdf_path), 'pax_raw')"
   ]
  },
  {
   "cell_type": "markdown",
   "metadata": {},
   "source": [
    "# Read other NHANES tables directly from source\n",
    "\n",
    "The other tables aren't compressed- they are simply raw .XPT files written out via SAS. We can read directly from source. There are a TON of interesting files on the NHANES website- from disease state questionnaires to physical activity questionnaires. We have linked a few interesting tables below, we will leave it to you to add the rest."
   ]
  },
  {
   "cell_type": "code",
   "execution_count": 14,
   "metadata": {
    "ExecuteTime": {
     "end_time": "2018-03-28T16:57:16.572558Z",
     "start_time": "2018-03-28T16:57:16.543007Z"
    },
    "collapsed": true
   },
   "outputs": [],
   "source": [
    "# In order to grab tables from the CDC NHANES website, simply add a table alias to the dictionary below,\n",
    "# and then reference the table link address as the corresponding key value. The read_sas_write_feather\n",
    "# function in utils will then read each sas file and write it to write_dir in feather format using \n",
    "# the alias as the file name\n",
    "\n",
    "source_paths = {\n",
    "    'medical_conditions_questionnaire': 'https://wwwn.cdc.gov/Nchs/Nhanes/2005-2006/MCQ_D.XPT',\n",
    "    'weight_history_questionnaire': 'https://wwwn.cdc.gov/Nchs/Nhanes/2005-2006/WHQ_D.XPT',\n",
    "    'demographics_with_sample_weights': 'https://wwwn.cdc.gov/Nchs/Nhanes/2005-2006/DEMO_D.XPT'\n",
    "}"
   ]
  },
  {
   "cell_type": "markdown",
   "metadata": {},
   "source": [
    "In order to optimize I/O, and keep all of our data in one place, we'll download each of the raw datasets we are interested in into memory, then save it to our already created HDF store."
   ]
  },
  {
   "cell_type": "code",
   "execution_count": 29,
   "metadata": {
    "ExecuteTime": {
     "end_time": "2018-03-28T16:57:35.932194Z",
     "start_time": "2018-03-28T16:57:18.309613Z"
    }
   },
   "outputs": [
    {
     "name": "stderr",
     "output_type": "stream",
     "text": [
      "/Users/bbradshaw/venv3/lib/python3.6/site-packages/pandas/core/generic.py:1471: PerformanceWarning: \n",
      "your performance may suffer as PyTables will pickle object types that it cannot\n",
      "map directly to c-types [inferred_type->floating,key->block1_values] [items->['seqn']]\n",
      "\n",
      "  return pytables.to_hdf(path_or_buf, key, self, **kwargs)\n"
     ]
    }
   ],
   "source": [
    "utils.read_sas_write_hdf(source_paths, data_dir, 'nhanes.h5')"
   ]
  },
  {
   "cell_type": "code",
   "execution_count": 30,
   "metadata": {
    "ExecuteTime": {
     "end_time": "2018-03-28T16:57:36.001442Z",
     "start_time": "2018-03-28T16:57:35.933937Z"
    }
   },
   "outputs": [
    {
     "name": "stdout",
     "output_type": "stream",
     "text": [
      "['/demographics_with_sample_weights', '/medical_conditions_questionnaire', '/pax_raw', '/weight_history_questionnaire']\n"
     ]
    }
   ],
   "source": [
    "with pd.HDFStore(os.path.join(data_dir, 'nhanes.h5')) as hdf:\n",
    "    print(hdf.keys())"
   ]
  },
  {
   "cell_type": "markdown",
   "metadata": {},
   "source": [
    "Looks like all requested tables made it safely into our data store!"
   ]
  },
  {
   "cell_type": "markdown",
   "metadata": {},
   "source": [
    "## Exercise: Find and read the physical activity questionnaire\n",
    "\n",
    "Find the raw SAS file on the 2005-2006 NHANES website that corresponds to the physical activity questionnaire. Use the function ```utils.read_sas_write_hdf()``` to download this file and write it into the HDF store that contains the other tables we already downloaded above."
   ]
  },
  {
   "cell_type": "code",
   "execution_count": 27,
   "metadata": {
    "collapsed": true
   },
   "outputs": [],
   "source": [
    "######################\n",
    "# YOUR SOLUTION HERE #\n",
    "######################"
   ]
  },
  {
   "cell_type": "markdown",
   "metadata": {},
   "source": [
    "## Solution: Find and read the physical activity questionnaire"
   ]
  },
  {
   "cell_type": "code",
   "execution_count": null,
   "metadata": {
    "ExecuteTime": {
     "end_time": "2018-03-28T16:58:02.126069Z",
     "start_time": "2018-03-28T16:58:02.099671Z"
    },
    "collapsed": true
   },
   "outputs": [],
   "source": [
    "append_paths = {\n",
    "    'physical_activity_questionnaire': 'https://wwwn.cdc.gov/Nchs/Nhanes/2005-2006/PAQ_D.XPT'\n",
    "}"
   ]
  },
  {
   "cell_type": "code",
   "execution_count": null,
   "metadata": {
    "ExecuteTime": {
     "end_time": "2018-03-28T16:58:25.298224Z",
     "start_time": "2018-03-28T16:58:03.948146Z"
    },
    "collapsed": true
   },
   "outputs": [],
   "source": [
    "utils.read_sas_write_hdf(source_paths, data_dir, 'nhanes.h5', downcast=False, verbose=False)"
   ]
  },
  {
   "cell_type": "markdown",
   "metadata": {},
   "source": [
    "# Initial QC of physical activity data\n",
    "\n",
    "In order to verify that the raw physical activity data looks reasonable, we will create a some tools that will allow us to quickly visualize the time series that correspond to each user-day's walking patterns. There are a few good reasons for doing this:\n",
    "1. This will allow us to infer if our preprocessing worked correctly\n",
    "2. It will allow us to identify idiosyncracies in the raw data itself\n",
    "3. It will help us better understand what sorts of features could be useful for various prediction or inference problems"
   ]
  },
  {
   "cell_type": "code",
   "execution_count": 106,
   "metadata": {
    "ExecuteTime": {
     "end_time": "2018-03-28T17:18:16.971800Z",
     "start_time": "2018-03-28T17:18:12.276047Z"
    }
   },
   "outputs": [
    {
     "name": "stdout",
     "output_type": "stream",
     "text": [
      "CPU times: user 4.14 s, sys: 6.86 s, total: 11 s\n",
      "Wall time: 14.3 s\n"
     ]
    }
   ],
   "source": [
    "%time pax_raw = pd.read_hdf(os.path.join(data_dir, hdf_path), 'pax_raw')"
   ]
  },
  {
   "cell_type": "markdown",
   "metadata": {},
   "source": [
    "Note the incredible increase in speed when we read the accelerometer data from the hdf store rather than from the csv file: from a wall time of 117 seconds to a wall time of 12.3 seconds!"
   ]
  },
  {
   "cell_type": "code",
   "execution_count": 107,
   "metadata": {
    "ExecuteTime": {
     "end_time": "2018-03-28T17:18:17.397769Z",
     "start_time": "2018-03-28T17:18:16.973724Z"
    }
   },
   "outputs": [
    {
     "data": {
      "text/html": [
       "<div>\n",
       "<style scoped>\n",
       "    .dataframe tbody tr th:only-of-type {\n",
       "        vertical-align: middle;\n",
       "    }\n",
       "\n",
       "    .dataframe tbody tr th {\n",
       "        vertical-align: top;\n",
       "    }\n",
       "\n",
       "    .dataframe thead th {\n",
       "        text-align: right;\n",
       "    }\n",
       "</style>\n",
       "<table border=\"1\" class=\"dataframe\">\n",
       "  <thead>\n",
       "    <tr style=\"text-align: right;\">\n",
       "      <th></th>\n",
       "      <th>seqn</th>\n",
       "      <th>paxstat</th>\n",
       "      <th>paxcal</th>\n",
       "      <th>paxday</th>\n",
       "      <th>paxn</th>\n",
       "      <th>paxhour</th>\n",
       "      <th>paxminut</th>\n",
       "      <th>paxinten</th>\n",
       "      <th>paxstep</th>\n",
       "      <th>minute_of_day</th>\n",
       "    </tr>\n",
       "  </thead>\n",
       "  <tbody>\n",
       "    <tr>\n",
       "      <th>0</th>\n",
       "      <td>31128.0</td>\n",
       "      <td>1</td>\n",
       "      <td>1</td>\n",
       "      <td>1</td>\n",
       "      <td>1</td>\n",
       "      <td>0</td>\n",
       "      <td>0</td>\n",
       "      <td>166</td>\n",
       "      <td>4.0</td>\n",
       "      <td>0</td>\n",
       "    </tr>\n",
       "    <tr>\n",
       "      <th>1</th>\n",
       "      <td>31128.0</td>\n",
       "      <td>1</td>\n",
       "      <td>1</td>\n",
       "      <td>1</td>\n",
       "      <td>2</td>\n",
       "      <td>0</td>\n",
       "      <td>1</td>\n",
       "      <td>27</td>\n",
       "      <td>0.0</td>\n",
       "      <td>1</td>\n",
       "    </tr>\n",
       "    <tr>\n",
       "      <th>2</th>\n",
       "      <td>31128.0</td>\n",
       "      <td>1</td>\n",
       "      <td>1</td>\n",
       "      <td>1</td>\n",
       "      <td>3</td>\n",
       "      <td>0</td>\n",
       "      <td>2</td>\n",
       "      <td>0</td>\n",
       "      <td>0.0</td>\n",
       "      <td>2</td>\n",
       "    </tr>\n",
       "    <tr>\n",
       "      <th>3</th>\n",
       "      <td>31128.0</td>\n",
       "      <td>1</td>\n",
       "      <td>1</td>\n",
       "      <td>1</td>\n",
       "      <td>4</td>\n",
       "      <td>0</td>\n",
       "      <td>3</td>\n",
       "      <td>276</td>\n",
       "      <td>4.0</td>\n",
       "      <td>3</td>\n",
       "    </tr>\n",
       "    <tr>\n",
       "      <th>4</th>\n",
       "      <td>31128.0</td>\n",
       "      <td>1</td>\n",
       "      <td>1</td>\n",
       "      <td>1</td>\n",
       "      <td>5</td>\n",
       "      <td>0</td>\n",
       "      <td>4</td>\n",
       "      <td>0</td>\n",
       "      <td>0.0</td>\n",
       "      <td>4</td>\n",
       "    </tr>\n",
       "  </tbody>\n",
       "</table>\n",
       "</div>"
      ],
      "text/plain": [
       "      seqn  paxstat  paxcal  paxday  paxn  paxhour  paxminut  paxinten  \\\n",
       "0  31128.0        1       1       1     1        0         0       166   \n",
       "1  31128.0        1       1       1     2        0         1        27   \n",
       "2  31128.0        1       1       1     3        0         2         0   \n",
       "3  31128.0        1       1       1     4        0         3       276   \n",
       "4  31128.0        1       1       1     5        0         4         0   \n",
       "\n",
       "   paxstep  minute_of_day  \n",
       "0      4.0              0  \n",
       "1      0.0              1  \n",
       "2      0.0              2  \n",
       "3      4.0              3  \n",
       "4      0.0              4  "
      ]
     },
     "execution_count": 107,
     "metadata": {},
     "output_type": "execute_result"
    }
   ],
   "source": [
    "# Add a \"minute of day\" column as a plotting index\n",
    "pax_raw['minute_of_day'] = pax_raw.paxhour*60 + pax_raw.paxminut\n",
    "pax_raw.head()"
   ]
  },
  {
   "cell_type": "code",
   "execution_count": 24,
   "metadata": {
    "ExecuteTime": {
     "end_time": "2018-03-27T23:59:44.341280Z",
     "start_time": "2018-03-27T23:59:42.301047Z"
    },
    "collapsed": true
   },
   "outputs": [],
   "source": [
    "# Take the raw data and filter out a single person just to check if the data looks reasonable.\n",
    "test_id = '31128.0'\n",
    "pax_sample = pax_raw[pax_raw.seqn==test_id].copy()"
   ]
  },
  {
   "cell_type": "code",
   "execution_count": 26,
   "metadata": {
    "ExecuteTime": {
     "end_time": "2018-03-28T00:00:03.960961Z",
     "start_time": "2018-03-28T00:00:03.252117Z"
    }
   },
   "outputs": [
    {
     "data": {
      "text/plain": [
       "<matplotlib.axes._subplots.AxesSubplot at 0x11daf8320>"
      ]
     },
     "execution_count": 26,
     "metadata": {},
     "output_type": "execute_result"
    },
    {
     "data": {
      "image/png": "[encoded data removed]",
      "text/plain": [
       "<matplotlib.figure.Figure at 0x11da5d710>"
      ]
     },
     "metadata": {},
     "output_type": "display_data"
    }
   ],
   "source": [
    "# Plot the 30-minute rolling walk step series for our sampled user over day 1\n",
    "pax_sample[pax_sample.paxday==1].set_index('minute_of_day').paxstep.rolling(window=50, win_type='triang').mean().plot(figsize=(25,8))"
   ]
  },
  {
   "cell_type": "markdown",
   "metadata": {},
   "source": [
    "We just did some hand coding to plot a sngle user-day, but what if we wanted to explore *many* user days? It would be helpful to build a tool that would allow us to quickly look at different days and different users in our data."
   ]
  },
  {
   "cell_type": "markdown",
   "metadata": {},
   "source": [
    "## Exercise: Plotting user day series\n",
    "\n",
    "Using the example code above, define a function ```plot_user_steps()``` that takes 4 arguments as input and plots a specific user's rolling walk step plot simialr to the plot shown above. The function's arguments should be:\n",
    "1. ```pax_df``` (pandas dataframe) The physical activity dataframe\n",
    "2. ```seqn_id``` (str) The unique study participant id\n",
    "3. ```day_of_study``` (int) The day of the study to plot\n",
    "4. ```window_len``` (int) The window length to use for the moving average.\n",
    "\n",
    "The function should then plot the rolling walk series for a specific user, for a specific day. As a bonus, build in functionality so that passing ```None``` to the parameter ```seqn_id``` will default to choosing a random id from the set of seqn ids and using that to create the plot.\n",
    "\n",
    "**Side Note: Building Data Science Tools**\n",
    "A lot of what practicing data scientists do on a daily basis revolves around building tools that solve specific problems pertaining to an analysis. In fact, some may argue that's what seperates a data scientist from your everyday analyst. During this module we really want to encourage you to build tools that make analysis scale. In the process you may even find that it can be very fun and rewarding to create a useful suite of analysis tools to speed up your workflow!"
   ]
  },
  {
   "cell_type": "code",
   "execution_count": 10,
   "metadata": {
    "collapsed": true
   },
   "outputs": [],
   "source": [
    "######################\n",
    "# YOUR SOLUTION HERE #\n",
    "######################"
   ]
  },
  {
   "cell_type": "markdown",
   "metadata": {},
   "source": [
    "## Solution: Plotting user day series"
   ]
  },
  {
   "cell_type": "markdown",
   "metadata": {},
   "source": [
    "We wrote a little snippet of code that implements the solution above. If you are curious how we did it, take a look in the ```utils``` folder that was imported at the top of the notebook."
   ]
  },
  {
   "cell_type": "code",
   "execution_count": 34,
   "metadata": {
    "ExecuteTime": {
     "end_time": "2018-03-28T17:05:15.410168Z",
     "start_time": "2018-03-28T17:05:08.141133Z"
    }
   },
   "outputs": [
    {
     "data": {
      "image/png": "[encoded data removed]",
      "text/plain": [
       "<matplotlib.figure.Figure at 0x114266748>"
      ]
     },
     "metadata": {},
     "output_type": "display_data"
    }
   ],
   "source": [
    "# Look in the utils library to see how we implemented the solution.\n",
    "utils.plot_user_steps(pax_raw, None, 2, 15)"
   ]
  },
  {
   "cell_type": "markdown",
   "metadata": {},
   "source": [
    "# Cleaning the raw PAQ data\n",
    "\n",
    "IoT data can be pretty messy: often times we have long sequences of missing values or we find that sensor malfunctions lead to large outliers in a signal. In order to make our lives a bit easier, we are going to do some initial quality control (QC) on the data. There are a few things we should consider:\n",
    "\n",
    "1. The paxcal column indicates whether a person's monitor was calibrated or not. In order to ensure we only conduct analysis on valid data, we should discard observations where the monitor was not calibrated.\n",
    "2. Participants *should* have worn the device during all waking hours. It's doubtful as to whether participants complied with this- so we need to figure out a way to check.\n",
    "3. Participants were expected to wear the device for 7 days, however many didn't. We are going to restrict our sample to only those participants who had at least 4 valid days."
   ]
  },
  {
   "cell_type": "markdown",
   "metadata": {},
   "source": [
    "## Cleaning Part I: Filtering miscalibrated devices\n",
    "\n",
    "The ```paxcal``` column indicates whether a participant's device was calibrated during a particular period of the study. Let's do some investigation in order to identify users with a high percentage of miscalibrated time"
   ]
  },
  {
   "cell_type": "code",
   "execution_count": 108,
   "metadata": {
    "collapsed": true
   },
   "outputs": [],
   "source": [
    "# Map values to something more reasonable\n",
    "cal_map = {1:1, 2:0}\n",
    "pax_raw['paxcal'] = pax_raw.paxcal.map(cal_map)"
   ]
  },
  {
   "cell_type": "code",
   "execution_count": 54,
   "metadata": {},
   "outputs": [
    {
     "data": {
      "text/plain": [
       "1    0.950388\n",
       "0    0.049612\n",
       "Name: paxcal, dtype: float64"
      ]
     },
     "execution_count": 54,
     "metadata": {},
     "output_type": "execute_result"
    }
   ],
   "source": [
    "# Check proportion of calibrated minutes vs not- 1 id calibrated, else 0\n",
    "pax_raw.paxcal.value_counts() / len(pax_raw)"
   ]
  },
  {
   "cell_type": "code",
   "execution_count": 57,
   "metadata": {},
   "outputs": [
    {
     "data": {
      "text/plain": [
       "1    7086\n",
       "0     369\n",
       "Name: paxcal, dtype: int64"
      ]
     },
     "execution_count": 57,
     "metadata": {},
     "output_type": "execute_result"
    }
   ],
   "source": [
    "# Check if users could be in calibration for only some days\n",
    "pax_raw.groupby('seqn').paxcal.mean().value_counts()"
   ]
  },
  {
   "cell_type": "markdown",
   "metadata": {},
   "source": [
    "It appears about 5% of user didn't have their device calibrated. For these folks, we will simply exclude them from the analysis."
   ]
  },
  {
   "cell_type": "code",
   "execution_count": 109,
   "metadata": {},
   "outputs": [],
   "source": [
    "pax_raw = pax_raw[pax_raw.paxcal==1].copy() # Keep only users with a calibrated device\n",
    "pax_raw.drop(columns='paxcal', inplace=True) # Drop the calibration column, we no longer need it"
   ]
  },
  {
   "cell_type": "markdown",
   "metadata": {},
   "source": [
    "As a first check let's look at the distribution of steps/minute."
   ]
  },
  {
   "cell_type": "code",
   "execution_count": 61,
   "metadata": {},
   "outputs": [
    {
     "data": {
      "text/plain": [
       "<matplotlib.axes._subplots.AxesSubplot at 0x11153b0b8>"
      ]
     },
     "execution_count": 61,
     "metadata": {},
     "output_type": "execute_result"
    },
    {
     "data": {
      "image/png": "[encoded data removed]",
      "text/plain": [
       "<matplotlib.figure.Figure at 0x110e01128>"
      ]
     },
     "metadata": {},
     "output_type": "display_data"
    }
   ],
   "source": [
    "pax_raw.paxstep.hist(bins=30)"
   ]
  },
  {
   "cell_type": "markdown",
   "metadata": {},
   "source": [
    "The above histogram is pretty worthless. What is going on here? **Stop and think for a moment. What should the distribution of walk steps look like?** Most of our days are spent *seated* meaning that we record zero steps during those minutes. A normal walking pace is around 100 steps per minute. If you are really running you may record 300+ steps per minute. So we expect the majority of the step density to be clustered at zero, perhaps like an exponential distribution. \n",
    "\n",
    "As a first invstigation, let's restrict our data to only minutes where observed steps are less than 300 and check out what the distrubution looks like."
   ]
  },
  {
   "cell_type": "code",
   "execution_count": 67,
   "metadata": {},
   "outputs": [
    {
     "data": {
      "text/plain": [
       "<matplotlib.axes._subplots.AxesSubplot at 0x11196bdd8>"
      ]
     },
     "execution_count": 67,
     "metadata": {},
     "output_type": "execute_result"
    },
    {
     "data": {
      "image/png": "[encoded data removed]",
      "text/plain": [
       "<matplotlib.figure.Figure at 0x10bbf34a8>"
      ]
     },
     "metadata": {},
     "output_type": "display_data"
    }
   ],
   "source": [
    "step_threshold = 300\n",
    "pax_raw[pax_raw.paxstep<step_threshold].paxstep.hist(bins=30)"
   ]
  },
  {
   "cell_type": "markdown",
   "metadata": {},
   "source": [
    "Now the histogram is more infomative. Indeed, this confirms our prior: most minutes are spent seated, a moderately sized proportion are spent walking, and very few are spent at high intensities. Moreover, we suspect that some large outliers may be influencing the data. Let's investigate."
   ]
  },
  {
   "cell_type": "code",
   "execution_count": 62,
   "metadata": {},
   "outputs": [
    {
     "data": {
      "text/plain": [
       "count    7.115940e+07\n",
       "mean     1.623266e+01\n",
       "std      5.465219e+02\n",
       "min      0.000000e+00\n",
       "25%      0.000000e+00\n",
       "50%      0.000000e+00\n",
       "75%      2.000000e+00\n",
       "max      3.276700e+04\n",
       "Name: paxstep, dtype: float64"
      ]
     },
     "execution_count": 62,
     "metadata": {},
     "output_type": "execute_result"
    }
   ],
   "source": [
    "pax_raw.paxstep.describe()"
   ]
  },
  {
   "cell_type": "markdown",
   "metadata": {},
   "source": [
    "The max value is suspicious: 32,670 steps recorded in a minute? That seems superhuman! Indeed, too good to be true. It appears that the accelerometer that logs steps sometimes produces large outliers that are orders of magnitude larger than normal observations. This is a problem we will need to fix. In order to do so, we should identify a *reasonable threshold that meets the common sense test*. What is the common sense test? While it isn't a statistical test, it may actually be the most important test to master in data science. We simply need to ask ourselves, what is a reasonable number of steps $s$ for which it would be unlikely that a sensor reading above $s$ is legitimate?"
   ]
  },
  {
   "cell_type": "code",
   "execution_count": 69,
   "metadata": {},
   "outputs": [
    {
     "name": "stdout",
     "output_type": "stream",
     "text": [
      "Proportion of minutes with > 300 steps: 0.18375631293435898\n"
     ]
    }
   ],
   "source": [
    "pct_outliers = len(pax_raw[pax_raw.paxstep>step_threshold]) / len(pax_raw)*100\n",
    "print(f'Proportion of minutes with > {step_threshold} steps: {pct_outliers}')"
   ]
  },
  {
   "cell_type": "markdown",
   "metadata": {},
   "source": [
    "So we have chosen a \"reasonable\" threshold of 300 steps/minute. Now what? We have a few options. We could:\n",
    "- Drop the observations that are above our threshold (this is not ideal given that we are dealing with time series data)\n",
    "- Set these observations to a null value, and then fill them using some yet to be defined strategy\n",
    "- \"Winsorize them\" meaning we set them to a fixed percentile value drawn from the distribution of steps\n",
    "\n",
    "Each of these strategies forces us to make assumptions about the data that may not be true. It's up to us as the practitioner to decide which methods will help us best accomplish the goal at hand- whether that is inference or prediction. In a prediction setting, you could actually determine the \"best\" strategy using a data driven approach via cross validation. For now (for simplicity's sake), let's use the winsorize method with a twist: for each participant we will find the 99th percentile of their walk steps and use that value to fill values above 300."
   ]
  },
  {
   "cell_type": "code",
   "execution_count": 99,
   "metadata": {},
   "outputs": [],
   "source": [
    "cut_pctile = 0.99 # Set our fill value to be the 99th percentile of each user's step distribution\n",
    "part_fill_vals = pax_raw.groupby('seqn').paxstep.quantile(cut_pctile).reset_index() # Compute quantiles"
   ]
  },
  {
   "cell_type": "code",
   "execution_count": 110,
   "metadata": {},
   "outputs": [],
   "source": [
    "part_fill_vals.rename(columns={'paxstep': 'fill_values'}, inplace=True)"
   ]
  },
  {
   "cell_type": "code",
   "execution_count": 111,
   "metadata": {},
   "outputs": [],
   "source": [
    "# Now some tricky business to fill the correct values"
   ]
  },
  {
   "cell_type": "code",
   "execution_count": 93,
   "metadata": {},
   "outputs": [],
   "source": [
    "# Check that the largest observed value is <= step threshold\n",
    "assert pax_raw.paxstep.max() <= step_threshold"
   ]
  },
  {
   "cell_type": "markdown",
   "metadata": {},
   "source": [
    "# Joining Data\n",
    "\n",
    "The NHANES dataset has **A LOT** of tables. These tables are *relational* in structure meaning that their is a heirarchical structure that relates one set of data to another. In the NHANES dataset the *person level identifier* is the ```seqn``` number as you have already seen above. For some tables each row corresponds to exactly one ```seqn``` number. For other tables (like the raw activity data we have already worked with) there is a *one to many* mapping between ```seqn``` identifiers and row numbers, meaning that one ```seqn``` number corresponds to multiple input rows. Indeed for the ```pax_raw``` dataset we already worked with above, each person is associated with *thousands* of rows corresponding to each minute of a day in which the person wore an activity monitor.\n",
    "\n",
    "For this next section we will ensure that we can join together data from the various tables we pulled. This will be important for creating new interesting features later on, both for prediction and inference tasks, as we'll need to put together a feature matrix that combines data from multiple tables within the NHANES database."
   ]
  },
  {
   "cell_type": "markdown",
   "metadata": {},
   "source": [
    "## Example: Joining Datasets\n",
    "\n",
    "As an example let's join together two of the tables we pulled in above that should now exist in your local HDF store:\n",
    "\n",
    "- Participant demographics\n",
    "- Physical activity data (we already pulled this in above)\n",
    "\n",
    "There is a 1:1 correspondence between these two tables. For this join, we will do what is known as an *inner join*. This means that we will specify a join key that exists in both sets, and *only* join those keys that exist in the intersection of the two key sets. For more information on the different types of joins check out [this resource](https://www.w3schools.com/sql/sql_join.asp)."
   ]
  },
  {
   "cell_type": "code",
   "execution_count": 13,
   "metadata": {
    "ExecuteTime": {
     "end_time": "2018-03-28T17:18:22.325219Z",
     "start_time": "2018-03-28T17:18:22.290066Z"
    }
   },
   "outputs": [
    {
     "data": {
      "text/html": [
       "<div>\n",
       "<style scoped>\n",
       "    .dataframe tbody tr th:only-of-type {\n",
       "        vertical-align: middle;\n",
       "    }\n",
       "\n",
       "    .dataframe tbody tr th {\n",
       "        vertical-align: top;\n",
       "    }\n",
       "\n",
       "    .dataframe thead th {\n",
       "        text-align: right;\n",
       "    }\n",
       "</style>\n",
       "<table border=\"1\" class=\"dataframe\">\n",
       "  <thead>\n",
       "    <tr style=\"text-align: right;\">\n",
       "      <th></th>\n",
       "      <th>seqn</th>\n",
       "      <th>sddsrvyr</th>\n",
       "      <th>ridstatr</th>\n",
       "      <th>ridexmon</th>\n",
       "      <th>riagendr</th>\n",
       "      <th>ridageyr</th>\n",
       "      <th>ridagemn</th>\n",
       "      <th>ridageex</th>\n",
       "      <th>ridreth1</th>\n",
       "      <th>dmqmilit</th>\n",
       "      <th>dmdborn</th>\n",
       "      <th>dmdcitzn</th>\n",
       "      <th>dmdyrsus</th>\n",
       "      <th>dmdeduc3</th>\n",
       "      <th>dmdeduc2</th>\n",
       "      <th>dmdschol</th>\n",
       "      <th>dmdmartl</th>\n",
       "      <th>dmdhhsiz</th>\n",
       "      <th>dmdfmsiz</th>\n",
       "      <th>indhhinc</th>\n",
       "      <th>indfminc</th>\n",
       "      <th>indfmpir</th>\n",
       "      <th>ridexprg</th>\n",
       "      <th>dmdhrgnd</th>\n",
       "      <th>dmdhrage</th>\n",
       "      <th>dmdhrbrn</th>\n",
       "      <th>dmdhredu</th>\n",
       "      <th>dmdhrmar</th>\n",
       "      <th>dmdhsedu</th>\n",
       "      <th>sialang</th>\n",
       "      <th>siaproxy</th>\n",
       "      <th>siaintrp</th>\n",
       "      <th>fialang</th>\n",
       "      <th>fiaproxy</th>\n",
       "      <th>fiaintrp</th>\n",
       "      <th>mialang</th>\n",
       "      <th>miaproxy</th>\n",
       "      <th>miaintrp</th>\n",
       "      <th>aialang</th>\n",
       "      <th>wtint2yr</th>\n",
       "      <th>wtmec2yr</th>\n",
       "      <th>sdmvpsu</th>\n",
       "      <th>sdmvstra</th>\n",
       "    </tr>\n",
       "  </thead>\n",
       "  <tbody>\n",
       "    <tr>\n",
       "      <th>0</th>\n",
       "      <td>31127</td>\n",
       "      <td>4.0</td>\n",
       "      <td>2.0</td>\n",
       "      <td>2.0</td>\n",
       "      <td>1.0</td>\n",
       "      <td>5.397605e-79</td>\n",
       "      <td>11.0</td>\n",
       "      <td>12.0</td>\n",
       "      <td>3.0</td>\n",
       "      <td>NaN</td>\n",
       "      <td>1.0</td>\n",
       "      <td>1.0</td>\n",
       "      <td>NaN</td>\n",
       "      <td>NaN</td>\n",
       "      <td>NaN</td>\n",
       "      <td>NaN</td>\n",
       "      <td>NaN</td>\n",
       "      <td>4.0</td>\n",
       "      <td>4.0</td>\n",
       "      <td>4.0</td>\n",
       "      <td>4.0</td>\n",
       "      <td>0.75</td>\n",
       "      <td>NaN</td>\n",
       "      <td>2.0</td>\n",
       "      <td>21.0</td>\n",
       "      <td>1.0</td>\n",
       "      <td>3.0</td>\n",
       "      <td>1.0</td>\n",
       "      <td>2.0</td>\n",
       "      <td>1.0</td>\n",
       "      <td>1.0</td>\n",
       "      <td>2.0</td>\n",
       "      <td>1.0</td>\n",
       "      <td>2.0</td>\n",
       "      <td>2.0</td>\n",
       "      <td>NaN</td>\n",
       "      <td>NaN</td>\n",
       "      <td>NaN</td>\n",
       "      <td>NaN</td>\n",
       "      <td>6434.950248</td>\n",
       "      <td>6571.396373</td>\n",
       "      <td>2.0</td>\n",
       "      <td>44.0</td>\n",
       "    </tr>\n",
       "    <tr>\n",
       "      <th>1</th>\n",
       "      <td>31128</td>\n",
       "      <td>4.0</td>\n",
       "      <td>2.0</td>\n",
       "      <td>1.0</td>\n",
       "      <td>2.0</td>\n",
       "      <td>1.100000e+01</td>\n",
       "      <td>132.0</td>\n",
       "      <td>132.0</td>\n",
       "      <td>4.0</td>\n",
       "      <td>NaN</td>\n",
       "      <td>1.0</td>\n",
       "      <td>1.0</td>\n",
       "      <td>NaN</td>\n",
       "      <td>4.0</td>\n",
       "      <td>NaN</td>\n",
       "      <td>1.0</td>\n",
       "      <td>NaN</td>\n",
       "      <td>7.0</td>\n",
       "      <td>6.0</td>\n",
       "      <td>8.0</td>\n",
       "      <td>5.0</td>\n",
       "      <td>0.77</td>\n",
       "      <td>2.0</td>\n",
       "      <td>1.0</td>\n",
       "      <td>47.0</td>\n",
       "      <td>1.0</td>\n",
       "      <td>2.0</td>\n",
       "      <td>NaN</td>\n",
       "      <td>NaN</td>\n",
       "      <td>1.0</td>\n",
       "      <td>1.0</td>\n",
       "      <td>2.0</td>\n",
       "      <td>1.0</td>\n",
       "      <td>2.0</td>\n",
       "      <td>2.0</td>\n",
       "      <td>1.0</td>\n",
       "      <td>2.0</td>\n",
       "      <td>2.0</td>\n",
       "      <td>1.0</td>\n",
       "      <td>9081.700761</td>\n",
       "      <td>8987.041810</td>\n",
       "      <td>1.0</td>\n",
       "      <td>52.0</td>\n",
       "    </tr>\n",
       "    <tr>\n",
       "      <th>2</th>\n",
       "      <td>31129</td>\n",
       "      <td>4.0</td>\n",
       "      <td>2.0</td>\n",
       "      <td>2.0</td>\n",
       "      <td>1.0</td>\n",
       "      <td>1.500000e+01</td>\n",
       "      <td>189.0</td>\n",
       "      <td>190.0</td>\n",
       "      <td>4.0</td>\n",
       "      <td>NaN</td>\n",
       "      <td>1.0</td>\n",
       "      <td>1.0</td>\n",
       "      <td>NaN</td>\n",
       "      <td>10.0</td>\n",
       "      <td>NaN</td>\n",
       "      <td>1.0</td>\n",
       "      <td>5.0</td>\n",
       "      <td>6.0</td>\n",
       "      <td>6.0</td>\n",
       "      <td>10.0</td>\n",
       "      <td>10.0</td>\n",
       "      <td>2.71</td>\n",
       "      <td>NaN</td>\n",
       "      <td>1.0</td>\n",
       "      <td>41.0</td>\n",
       "      <td>1.0</td>\n",
       "      <td>4.0</td>\n",
       "      <td>1.0</td>\n",
       "      <td>4.0</td>\n",
       "      <td>1.0</td>\n",
       "      <td>1.0</td>\n",
       "      <td>2.0</td>\n",
       "      <td>1.0</td>\n",
       "      <td>2.0</td>\n",
       "      <td>2.0</td>\n",
       "      <td>1.0</td>\n",
       "      <td>2.0</td>\n",
       "      <td>2.0</td>\n",
       "      <td>1.0</td>\n",
       "      <td>5316.895215</td>\n",
       "      <td>5586.719481</td>\n",
       "      <td>1.0</td>\n",
       "      <td>51.0</td>\n",
       "    </tr>\n",
       "    <tr>\n",
       "      <th>3</th>\n",
       "      <td>31130</td>\n",
       "      <td>4.0</td>\n",
       "      <td>2.0</td>\n",
       "      <td>2.0</td>\n",
       "      <td>2.0</td>\n",
       "      <td>8.500000e+01</td>\n",
       "      <td>NaN</td>\n",
       "      <td>NaN</td>\n",
       "      <td>3.0</td>\n",
       "      <td>2.0</td>\n",
       "      <td>1.0</td>\n",
       "      <td>1.0</td>\n",
       "      <td>NaN</td>\n",
       "      <td>NaN</td>\n",
       "      <td>4.0</td>\n",
       "      <td>NaN</td>\n",
       "      <td>2.0</td>\n",
       "      <td>1.0</td>\n",
       "      <td>1.0</td>\n",
       "      <td>4.0</td>\n",
       "      <td>4.0</td>\n",
       "      <td>1.99</td>\n",
       "      <td>NaN</td>\n",
       "      <td>2.0</td>\n",
       "      <td>85.0</td>\n",
       "      <td>1.0</td>\n",
       "      <td>4.0</td>\n",
       "      <td>2.0</td>\n",
       "      <td>NaN</td>\n",
       "      <td>1.0</td>\n",
       "      <td>2.0</td>\n",
       "      <td>2.0</td>\n",
       "      <td>1.0</td>\n",
       "      <td>2.0</td>\n",
       "      <td>2.0</td>\n",
       "      <td>NaN</td>\n",
       "      <td>NaN</td>\n",
       "      <td>NaN</td>\n",
       "      <td>NaN</td>\n",
       "      <td>29960.839509</td>\n",
       "      <td>34030.994786</td>\n",
       "      <td>2.0</td>\n",
       "      <td>46.0</td>\n",
       "    </tr>\n",
       "    <tr>\n",
       "      <th>4</th>\n",
       "      <td>31131</td>\n",
       "      <td>4.0</td>\n",
       "      <td>2.0</td>\n",
       "      <td>2.0</td>\n",
       "      <td>2.0</td>\n",
       "      <td>4.400000e+01</td>\n",
       "      <td>535.0</td>\n",
       "      <td>536.0</td>\n",
       "      <td>4.0</td>\n",
       "      <td>2.0</td>\n",
       "      <td>1.0</td>\n",
       "      <td>1.0</td>\n",
       "      <td>NaN</td>\n",
       "      <td>NaN</td>\n",
       "      <td>4.0</td>\n",
       "      <td>NaN</td>\n",
       "      <td>1.0</td>\n",
       "      <td>4.0</td>\n",
       "      <td>4.0</td>\n",
       "      <td>11.0</td>\n",
       "      <td>11.0</td>\n",
       "      <td>4.65</td>\n",
       "      <td>2.0</td>\n",
       "      <td>1.0</td>\n",
       "      <td>36.0</td>\n",
       "      <td>1.0</td>\n",
       "      <td>5.0</td>\n",
       "      <td>1.0</td>\n",
       "      <td>4.0</td>\n",
       "      <td>1.0</td>\n",
       "      <td>2.0</td>\n",
       "      <td>2.0</td>\n",
       "      <td>1.0</td>\n",
       "      <td>2.0</td>\n",
       "      <td>2.0</td>\n",
       "      <td>1.0</td>\n",
       "      <td>2.0</td>\n",
       "      <td>2.0</td>\n",
       "      <td>1.0</td>\n",
       "      <td>26457.708180</td>\n",
       "      <td>26770.584605</td>\n",
       "      <td>1.0</td>\n",
       "      <td>48.0</td>\n",
       "    </tr>\n",
       "  </tbody>\n",
       "</table>\n",
       "</div>"
      ],
      "text/plain": [
       "    seqn  sddsrvyr  ridstatr  ridexmon  riagendr      ridageyr  ridagemn  \\\n",
       "0  31127       4.0       2.0       2.0       1.0  5.397605e-79      11.0   \n",
       "1  31128       4.0       2.0       1.0       2.0  1.100000e+01     132.0   \n",
       "2  31129       4.0       2.0       2.0       1.0  1.500000e+01     189.0   \n",
       "3  31130       4.0       2.0       2.0       2.0  8.500000e+01       NaN   \n",
       "4  31131       4.0       2.0       2.0       2.0  4.400000e+01     535.0   \n",
       "\n",
       "   ridageex  ridreth1  dmqmilit  dmdborn  dmdcitzn  dmdyrsus  dmdeduc3  \\\n",
       "0      12.0       3.0       NaN      1.0       1.0       NaN       NaN   \n",
       "1     132.0       4.0       NaN      1.0       1.0       NaN       4.0   \n",
       "2     190.0       4.0       NaN      1.0       1.0       NaN      10.0   \n",
       "3       NaN       3.0       2.0      1.0       1.0       NaN       NaN   \n",
       "4     536.0       4.0       2.0      1.0       1.0       NaN       NaN   \n",
       "\n",
       "   dmdeduc2  dmdschol  dmdmartl  dmdhhsiz  dmdfmsiz  indhhinc  indfminc  \\\n",
       "0       NaN       NaN       NaN       4.0       4.0       4.0       4.0   \n",
       "1       NaN       1.0       NaN       7.0       6.0       8.0       5.0   \n",
       "2       NaN       1.0       5.0       6.0       6.0      10.0      10.0   \n",
       "3       4.0       NaN       2.0       1.0       1.0       4.0       4.0   \n",
       "4       4.0       NaN       1.0       4.0       4.0      11.0      11.0   \n",
       "\n",
       "   indfmpir  ridexprg  dmdhrgnd  dmdhrage  dmdhrbrn  dmdhredu  dmdhrmar  \\\n",
       "0      0.75       NaN       2.0      21.0       1.0       3.0       1.0   \n",
       "1      0.77       2.0       1.0      47.0       1.0       2.0       NaN   \n",
       "2      2.71       NaN       1.0      41.0       1.0       4.0       1.0   \n",
       "3      1.99       NaN       2.0      85.0       1.0       4.0       2.0   \n",
       "4      4.65       2.0       1.0      36.0       1.0       5.0       1.0   \n",
       "\n",
       "   dmdhsedu  sialang  siaproxy  siaintrp  fialang  fiaproxy  fiaintrp  \\\n",
       "0       2.0      1.0       1.0       2.0      1.0       2.0       2.0   \n",
       "1       NaN      1.0       1.0       2.0      1.0       2.0       2.0   \n",
       "2       4.0      1.0       1.0       2.0      1.0       2.0       2.0   \n",
       "3       NaN      1.0       2.0       2.0      1.0       2.0       2.0   \n",
       "4       4.0      1.0       2.0       2.0      1.0       2.0       2.0   \n",
       "\n",
       "   mialang  miaproxy  miaintrp  aialang      wtint2yr      wtmec2yr  sdmvpsu  \\\n",
       "0      NaN       NaN       NaN      NaN   6434.950248   6571.396373      2.0   \n",
       "1      1.0       2.0       2.0      1.0   9081.700761   8987.041810      1.0   \n",
       "2      1.0       2.0       2.0      1.0   5316.895215   5586.719481      1.0   \n",
       "3      NaN       NaN       NaN      NaN  29960.839509  34030.994786      2.0   \n",
       "4      1.0       2.0       2.0      1.0  26457.708180  26770.584605      1.0   \n",
       "\n",
       "   sdmvstra  \n",
       "0      44.0  \n",
       "1      52.0  \n",
       "2      51.0  \n",
       "3      46.0  \n",
       "4      48.0  "
      ]
     },
     "execution_count": 13,
     "metadata": {},
     "output_type": "execute_result"
    }
   ],
   "source": [
    "demo_df = pd.read_hdf(os.path.join(data_dir, hdf_path), 'demographics_with_sample_weights')\n",
    "\n",
    "# Let's checkout what's in this dataframe\n",
    "demo_df.head()"
   ]
  },
  {
   "cell_type": "markdown",
   "metadata": {},
   "source": [
    "What in the world? What are all the cryptic column names?? Well, the CDC has chosen somewhat unhelpful names that map to demographic characteristics of participants. We *could* go to the website that lists the variable names and keep track of them. However, if we are clever there might be a better way. . . .The pandas library makes it esy to scrape tables via a url. All we need is the url where the table is located, as well as the index of the xml blob we are interested in."
   ]
  },
  {
   "cell_type": "code",
   "execution_count": 10,
   "metadata": {
    "ExecuteTime": {
     "end_time": "2018-03-28T17:18:23.977559Z",
     "start_time": "2018-03-28T17:18:23.953915Z"
    },
    "collapsed": true
   },
   "outputs": [],
   "source": [
    "demo_metadata_url = 'https://wwwn.cdc.gov/nchs/nhanes/search/variablelist.aspx?Component=Demographics&CycleBeginYear=2005'\n",
    "idx = 1 # I looked up the blob I was interested in in advance\n",
    "\n",
    "demo_metadata = pd.read_html(demo_metadata_url)[idx]\n",
    "\n",
    "demo_metadata.head()"
   ]
  },
  {
   "cell_type": "code",
   "execution_count": 20,
   "metadata": {
    "ExecuteTime": {
     "end_time": "2018-03-28T18:05:05.216911Z",
     "start_time": "2018-03-28T18:05:05.173516Z"
    }
   },
   "outputs": [
    {
     "data": {
      "text/plain": [
       "array(['CDEMO_AD', 'DEMO_D', 'N0506_GE', 'LDEMO_AD'], dtype=object)"
      ]
     },
     "execution_count": 20,
     "metadata": {},
     "output_type": "execute_result"
    }
   ],
   "source": [
    "demo_metadata['Data File Name'].unique()"
   ]
  },
  {
   "cell_type": "markdown",
   "metadata": {},
   "source": [
    "Nice! Now we have a dataframe with two columns of interest: ```Variable Name``` and ```Variable Description```. We could remap the column names to human readable. I'll leave that as an exercise for you if you feel inclined. \n",
    "\n",
    "**Note: this metadata DataFrame has metadata from more files than just the `DEMO_D` data we are currently working with, so it might make sense to filter the rest out.*"
   ]
  },
  {
   "cell_type": "markdown",
   "metadata": {},
   "source": [
    "## Exercise: Create questionnaire metadata table\n",
    "\n",
    "For this exercise replicate the process we did above for the questionnaire metadata. You will need:\n",
    "- The url on the 2005 NHANES website where the questionnaire metadata is stored\n",
    "- The index of the xml blob corresponding to the metadata table\n",
    "\n",
    "Save the metadata table in a new dataframe called ```quest_metadata```."
   ]
  },
  {
   "cell_type": "code",
   "execution_count": null,
   "metadata": {
    "collapsed": true
   },
   "outputs": [],
   "source": []
  },
  {
   "cell_type": "markdown",
   "metadata": {},
   "source": [
    "## Solution: Create questionnaire metadata table"
   ]
  },
  {
   "cell_type": "code",
   "execution_count": 17,
   "metadata": {
    "ExecuteTime": {
     "end_time": "2018-03-28T17:24:08.739660Z",
     "start_time": "2018-03-28T17:24:08.715080Z"
    },
    "collapsed": true
   },
   "outputs": [],
   "source": [
    "quest_metadata_url = 'https://wwwn.cdc.gov/nchs/nhanes/search/variablelist.aspx?Component=Questionnaire&CycleBeginYear=2005'\n",
    "quest_meta_data = pd.read_html(quest_metadata_url)[1]"
   ]
  },
  {
   "cell_type": "code",
   "execution_count": 21,
   "metadata": {
    "ExecuteTime": {
     "end_time": "2018-03-28T21:28:21.446649Z",
     "start_time": "2018-03-28T21:28:21.383287Z"
    }
   },
   "outputs": [
    {
     "data": {
      "text/html": [
       "<div>\n",
       "<style scoped>\n",
       "    .dataframe tbody tr th:only-of-type {\n",
       "        vertical-align: middle;\n",
       "    }\n",
       "\n",
       "    .dataframe tbody tr th {\n",
       "        vertical-align: top;\n",
       "    }\n",
       "\n",
       "    .dataframe thead th {\n",
       "        text-align: right;\n",
       "    }\n",
       "</style>\n",
       "<table border=\"1\" class=\"dataframe\">\n",
       "  <thead>\n",
       "    <tr style=\"text-align: right;\">\n",
       "      <th></th>\n",
       "      <th>Variable Name</th>\n",
       "      <th>Variable Description</th>\n",
       "      <th>Data File Name</th>\n",
       "      <th>Data File Description</th>\n",
       "      <th>Begin Year</th>\n",
       "      <th>EndYear</th>\n",
       "      <th>Component</th>\n",
       "      <th>Use Constraints</th>\n",
       "    </tr>\n",
       "  </thead>\n",
       "  <tbody>\n",
       "    <tr>\n",
       "      <th>0</th>\n",
       "      <td>SEQN</td>\n",
       "      <td>Respondent sequence number.</td>\n",
       "      <td>ACQ_D</td>\n",
       "      <td>Acculturation</td>\n",
       "      <td>2005</td>\n",
       "      <td>2006</td>\n",
       "      <td>Questionnaire</td>\n",
       "      <td>None</td>\n",
       "    </tr>\n",
       "    <tr>\n",
       "      <th>1</th>\n",
       "      <td>ACD010A</td>\n",
       "      <td>What language(s) {do you/does SP} usually spea...</td>\n",
       "      <td>ACQ_D</td>\n",
       "      <td>Acculturation</td>\n",
       "      <td>2005</td>\n",
       "      <td>2006</td>\n",
       "      <td>Questionnaire</td>\n",
       "      <td>None</td>\n",
       "    </tr>\n",
       "    <tr>\n",
       "      <th>2</th>\n",
       "      <td>ACD010B</td>\n",
       "      <td>What language(s) {do you/does SP} usually spea...</td>\n",
       "      <td>ACQ_D</td>\n",
       "      <td>Acculturation</td>\n",
       "      <td>2005</td>\n",
       "      <td>2006</td>\n",
       "      <td>Questionnaire</td>\n",
       "      <td>None</td>\n",
       "    </tr>\n",
       "    <tr>\n",
       "      <th>3</th>\n",
       "      <td>ACD010C</td>\n",
       "      <td>What language(s) {do you/does SP} usually spea...</td>\n",
       "      <td>ACQ_D</td>\n",
       "      <td>Acculturation</td>\n",
       "      <td>2005</td>\n",
       "      <td>2006</td>\n",
       "      <td>Questionnaire</td>\n",
       "      <td>None</td>\n",
       "    </tr>\n",
       "    <tr>\n",
       "      <th>4</th>\n",
       "      <td>ACD040</td>\n",
       "      <td>Now I'm going to ask you about language use. W...</td>\n",
       "      <td>ACQ_D</td>\n",
       "      <td>Acculturation</td>\n",
       "      <td>2005</td>\n",
       "      <td>2006</td>\n",
       "      <td>Questionnaire</td>\n",
       "      <td>None</td>\n",
       "    </tr>\n",
       "  </tbody>\n",
       "</table>\n",
       "</div>"
      ],
      "text/plain": [
       "  Variable Name                               Variable Description  \\\n",
       "0          SEQN                        Respondent sequence number.   \n",
       "1       ACD010A  What language(s) {do you/does SP} usually spea...   \n",
       "2       ACD010B  What language(s) {do you/does SP} usually spea...   \n",
       "3       ACD010C  What language(s) {do you/does SP} usually spea...   \n",
       "4        ACD040  Now I'm going to ask you about language use. W...   \n",
       "\n",
       "  Data File Name Data File Description  Begin Year  EndYear      Component  \\\n",
       "0          ACQ_D         Acculturation        2005     2006  Questionnaire   \n",
       "1          ACQ_D         Acculturation        2005     2006  Questionnaire   \n",
       "2          ACQ_D         Acculturation        2005     2006  Questionnaire   \n",
       "3          ACQ_D         Acculturation        2005     2006  Questionnaire   \n",
       "4          ACQ_D         Acculturation        2005     2006  Questionnaire   \n",
       "\n",
       "  Use Constraints  \n",
       "0            None  \n",
       "1            None  \n",
       "2            None  \n",
       "3            None  \n",
       "4            None  "
      ]
     },
     "execution_count": 21,
     "metadata": {},
     "output_type": "execute_result"
    }
   ],
   "source": [
    "quest_meta_data.head()"
   ]
  },
  {
   "cell_type": "code",
   "execution_count": null,
   "metadata": {
    "collapsed": true
   },
   "outputs": [],
   "source": []
  }
 ],
 "metadata": {
  "kernelspec": {
   "display_name": "Python 3",
   "language": "python",
   "name": "python3"
  },
  "language_info": {
   "codemirror_mode": {
    "name": "ipython",
    "version": 3
   },
   "file_extension": ".py",
   "mimetype": "text/x-python",
   "name": "python",
   "nbconvert_exporter": "python",
   "pygments_lexer": "ipython3",
   "version": "3.6.2"
  },
  "toc": {
   "nav_menu": {},
   "number_sections": true,
   "sideBar": true,
   "skip_h1_title": false,
   "toc_cell": false,
   "toc_position": {
    "height": "calc(100% - 180px)",
    "left": "10px",
    "top": "150px",
    "width": "269px"
   },
   "toc_section_display": "block",
   "toc_window_display": true
  },
  "varInspector": {
   "cols": {
    "lenName": 16,
    "lenType": 16,
    "lenVar": 40
   },
   "kernels_config": {
    "python": {
     "delete_cmd_postfix": "",
     "delete_cmd_prefix": "del ",
     "library": "var_list.py",
     "varRefreshCmd": "print(var_dic_list())"
    },
    "r": {
     "delete_cmd_postfix": ") ",
     "delete_cmd_prefix": "rm(",
     "library": "var_list.r",
     "varRefreshCmd": "cat(var_dic_list()) "
    }
   },
   "types_to_exclude": [
    "module",
    "function",
    "builtin_function_or_method",
    "instance",
    "_Feature"
   ],
   "window_display": false
  }
 },
 "nbformat": 4,
 "nbformat_minor": 2
}
